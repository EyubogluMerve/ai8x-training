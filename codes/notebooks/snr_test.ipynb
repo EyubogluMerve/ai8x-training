{
 "cells": [
  {
   "cell_type": "markdown",
   "metadata": {},
   "source": [
    "# Evaluation of the model under different SNR values"
   ]
  },
  {
   "cell_type": "code",
   "execution_count": 1,
   "metadata": {},
   "outputs": [],
   "source": [
    "import sys\n",
    "import os\n",
    "import numpy as np\n",
    "import matplotlib.pyplot as plt\n",
    "\n",
    "import torch\n",
    "import torchnet.meter as tnt\n",
    "import importlib\n",
    "\n",
    "from scipy.io.wavfile import write\n",
    "import IPython\n",
    "\n",
    "sys.path.append('../')\n",
    "sys.path.append('../datasets')\n",
    "sys.path.append(os.path.join(os.getcwd(), '../models/'))\n",
    "\n",
    "import ai8x\n",
    "from kws20_d import KWS\n",
    "import kws20_d"
   ]
  },
  {
   "cell_type": "code",
   "execution_count": 2,
   "metadata": {},
   "outputs": [
    {
     "name": "stderr",
     "output_type": "stream",
     "text": [
      "Exception ignored in: <_io.FileIO name=65 mode='rb' closefd=True>\n",
      "Traceback (most recent call last):\n",
      "  File \"/home/emretopcu/ai8x-training/venv/lib/python3.8/site-packages/audioread/__init__.py\", line 99, in available_backends\n",
      "    if ffdec.available():\n",
      "ResourceWarning: unclosed file <_io.BufferedReader name=65>\n",
      "Exception ignored in: <_io.FileIO name=67 mode='rb' closefd=True>\n",
      "Traceback (most recent call last):\n",
      "  File \"/home/emretopcu/ai8x-training/venv/lib/python3.8/site-packages/audioread/__init__.py\", line 99, in available_backends\n",
      "    if ffdec.available():\n",
      "ResourceWarning: unclosed file <_io.BufferedReader name=67>\n"
     ]
    },
    {
     "name": "stdout",
     "output_type": "stream",
     "text": [
      "No key `stretch` in input augmentation dictionary! Using defaults: [Min: 0.8, Max: 1.3]\n",
      "Processing the label: backward. 1 of 36\n",
      "Finished in 0.357 seconds.\n",
      "Processing the label: bed. 2 of 36\n",
      "Finished in 0.334 seconds.\n",
      "Processing the label: bird. 3 of 36\n",
      "Finished in 0.341 seconds.\n",
      "Processing the label: cat. 4 of 36\n",
      "Finished in 0.336 seconds.\n",
      "Processing the label: dog. 5 of 36\n",
      "Finished in 0.352 seconds.\n",
      "Processing the label: down. 6 of 36\n",
      "Finished in 0.649 seconds.\n",
      "Processing the label: eight. 7 of 36\n",
      "Finished in 0.629 seconds.\n",
      "Processing the label: five. 8 of 36\n",
      "Finished in 0.637 seconds.\n",
      "Processing the label: follow. 9 of 36\n",
      "Finished in 0.249 seconds.\n",
      "Processing the label: forward. 10 of 36\n",
      "Finished in 0.249 seconds.\n",
      "Processing the label: four. 11 of 36\n",
      "Finished in 0.601 seconds.\n",
      "Processing the label: go. 12 of 36\n",
      "Finished in 0.640 seconds.\n",
      "Processing the label: happy. 13 of 36\n",
      "Finished in 0.336 seconds.\n",
      "Processing the label: house. 14 of 36\n",
      "Finished in 0.347 seconds.\n",
      "Processing the label: learn. 15 of 36\n",
      "Finished in 0.257 seconds.\n",
      "Processing the label: left. 16 of 36\n",
      "Finished in 0.625 seconds.\n",
      "Processing the label: librispeech. 17 of 36\n",
      "Finished in 3.434 seconds.\n",
      "Processing the label: marvin. 18 of 36\n",
      "Finished in 0.345 seconds.\n",
      "Processing the label: nine. 19 of 36\n",
      "Finished in 0.645 seconds.\n",
      "Processing the label: no. 20 of 36\n",
      "Finished in 0.639 seconds.\n",
      "Processing the label: off. 21 of 36\n",
      "Finished in 0.612 seconds.\n",
      "Processing the label: on. 22 of 36\n",
      "Finished in 0.630 seconds.\n",
      "Processing the label: one. 23 of 36\n",
      "Finished in 0.634 seconds.\n",
      "Processing the label: right. 24 of 36\n",
      "Finished in 0.592 seconds.\n",
      "Processing the label: seven. 25 of 36\n",
      "Finished in 0.623 seconds.\n",
      "Processing the label: sheila. 26 of 36\n",
      "Finished in 0.313 seconds.\n",
      "Processing the label: six. 27 of 36\n",
      "Finished in 0.609 seconds.\n",
      "Processing the label: stop. 28 of 36\n",
      "Finished in 0.611 seconds.\n",
      "Processing the label: three. 29 of 36\n",
      "Finished in 0.597 seconds.\n",
      "Processing the label: tree. 30 of 36\n",
      "Finished in 0.283 seconds.\n",
      "Processing the label: two. 31 of 36\n",
      "Finished in 0.608 seconds.\n",
      "Processing the label: up. 32 of 36\n",
      "Finished in 0.582 seconds.\n",
      "Processing the label: visual. 33 of 36\n",
      "Finished in 0.249 seconds.\n",
      "Processing the label: wow. 34 of 36\n",
      "Finished in 0.336 seconds.\n",
      "Processing the label: yes. 35 of 36\n",
      "Finished in 0.638 seconds.\n",
      "Processing the label: zero. 36 of 36\n",
      "Finished in 0.636 seconds.\n",
      "Training: 105465, Validation: 9981, Test: 11005\n",
      "\n",
      "Processing test...\n",
      "test set: 11005 elements\n",
      "Class up (# 31): 425 elements\n",
      "Class down (# 5): 406 elements\n",
      "Class left (# 15): 412 elements\n",
      "Class right (# 23): 396 elements\n",
      "Class stop (# 27): 411 elements\n",
      "Class go (# 11): 402 elements\n",
      "Class yes (# 34): 419 elements\n",
      "Class no (# 19): 405 elements\n",
      "Class on (# 21): 396 elements\n",
      "Class off (# 20): 402 elements\n",
      "Class one (# 22): 399 elements\n",
      "Class two (# 30): 424 elements\n",
      "Class three (# 28): 405 elements\n",
      "Class four (# 10): 400 elements\n",
      "Class five (# 7): 445 elements\n",
      "Class six (# 26): 394 elements\n",
      "Class seven (# 24): 406 elements\n",
      "Class eight (# 6): 408 elements\n",
      "Class nine (# 18): 408 elements\n",
      "Class zero (# 35): 418 elements\n",
      "Class UNKNOWN: 2824 elements\n"
     ]
    }
   ],
   "source": [
    "data_path = '/home/emretopcu/ai8x-training/data'\n",
    "\n",
    "class Args:\n",
    "    def __init__(self, act_mode_8bit):\n",
    "        self.act_mode_8bit = act_mode_8bit\n",
    "        self.truncate_testset = False\n",
    "\n",
    "simulate = False\n",
    "args = Args(act_mode_8bit=simulate)\n",
    "\n",
    "_ ,test_set = kws20_d.KWS_20_get_datasets((data_path, args), load_train=False, load_test=True)"
   ]
  },
  {
   "cell_type": "code",
   "execution_count": 3,
   "metadata": {},
   "outputs": [],
   "source": [
    "classes = ['up', 'down', 'left', 'right', 'stop', 'go', 'yes', 'no', 'on', 'off', 'one',\n",
    "                   'two', 'three', 'four', 'five', 'six', 'seven', 'eight', 'nine', 'zero',\n",
    "                   'UNKNOWN']"
   ]
  },
  {
   "cell_type": "code",
   "execution_count": 4,
   "metadata": {},
   "outputs": [
    {
     "name": "stdout",
     "output_type": "stream",
     "text": [
      "Number of samples in the test dataset    : 11005\n",
      "Number of labels in the test dataset     : 21\n",
      "Each sample contains a tuple with size   : 2\n",
      "Height of the signal in the test dataset : 128\n",
      "Width of each signal in the test dataset : 128\n"
     ]
    }
   ],
   "source": [
    "print(\"Number of samples in the test dataset    :\",len(test_set))\n",
    "print(\"Number of labels in the test dataset     :\",len(classes))\n",
    "print(\"Each sample contains a tuple with size   :\",len(test_set[0]))\n",
    "print(\"Height of the signal in the test dataset :\",len(test_set[0][0]))\n",
    "print(\"Width of each signal in the test dataset :\",len(test_set[0][0][0]))\n"
   ]
  },
  {
   "cell_type": "code",
   "execution_count": 5,
   "metadata": {},
   "outputs": [
    {
     "name": "stdout",
     "output_type": "stream",
     "text": [
      "Working with device: cuda\n",
      "Configuring device: MAX78000, simulate=False.\n"
     ]
    }
   ],
   "source": [
    "device = torch.device('cuda' if torch.cuda.is_available() else 'cpu')\n",
    "print(\"Working with device:\", device)\n",
    "\n",
    "ai8x.set_device(device=85, simulate=simulate, round_avg=False)"
   ]
  },
  {
   "cell_type": "code",
   "execution_count": 7,
   "metadata": {},
   "outputs": [],
   "source": [
    "# Existing Version + Updated Train/Validation Split\n",
    "strategy_a = os.path.join(\"..\", \"logs\", \"train_strategy_a_old_train+val_v3\", \"qat_best.pth.tar\")\n",
    "# Updated DataLoader + Updated Train/Validation Split\n",
    "strategy_b = os.path.join(\"..\", \"logs\", \"train_strategy_b_upd_train+val_v3\", \"qat_best.pth.tar\")\n",
    "# Updated DataLoader + Utterance Detector + Updated Train/Validation Split\n",
    "strategy_c = os.path.join(\"..\", \"logs\", \"train_strategy_c_upd_train+val_v3\", \"qat_best.pth.tar\")\n",
    "# Updated DataLoader + Utterance Detector + 66% augment chance + Updated Train/Validation Split\n",
    "strategy_d = os.path.join(\"..\", \"logs\", \"train_strategy_d_upd_train+val_v3\", \"qat_best.pth.tar\")\n",
    "strats = [strategy_a, strategy_b, strategy_c, strategy_d]"
   ]
  },
  {
   "cell_type": "code",
   "execution_count": 8,
   "metadata": {},
   "outputs": [],
   "source": [
    "mod = importlib.import_module(\"ai85net-kws20-v3\")\n",
    "model = mod.AI85KWS20Netv3(num_classes=len(classes), num_channels=128, dimensions=(128, 1), bias=False, \n",
    "                           quantize_activation=False)"
   ]
  },
  {
   "cell_type": "code",
   "execution_count": 9,
   "metadata": {},
   "outputs": [],
   "source": [
    "def plot_audio(data, target, snr = None):\n",
    "    plt.plot(data)\n",
    "    if snr != None:\n",
    "        plt.title(\"Noisy\", classes[target])\n",
    "        plt.legend(\"SNR: \", snr)\n",
    "    else:\n",
    "        plt.title(classes[target])\n",
    "    plt.ylabel(\"Amplitude\")\n",
    "    plt.xlabel(\"Time\")\n",
    "    plt.show()"
   ]
  },
  {
   "cell_type": "code",
   "execution_count": 10,
   "metadata": {},
   "outputs": [],
   "source": [
    "def random_sample(data_type):\n",
    "    if data_type == 'train':\n",
    "        sample_index = np.random.randint(0,len(train_set))\n",
    "\n",
    "        sample, target = train_set[sample_index]\n",
    "        print(f'target: {target}, sample index: {sample_index}')\n",
    "    if data_type == 'test':\n",
    "        sample_index = np.random.randint(0,len(test_set))\n",
    "\n",
    "        sample, target = test_set[sample_index]\n",
    "        print(f'target: {target}, sample index: {sample_index}')\n",
    "    return sample, target, sample_index"
   ]
  },
  {
   "cell_type": "code",
   "execution_count": 11,
   "metadata": {},
   "outputs": [],
   "source": [
    "def snr_mixer2(audio, snr):\n",
    "    \"\"\"\n",
    "    Mix clean and noise with provided SNR level.\n",
    "    \"\"\"\n",
    "    signal_pwr = torch.var(audio)\n",
    "    snr_linear = torch.tensor(10**(snr / 10), dtype=torch.float32)\n",
    "    n_var = signal_pwr / snr_linear\n",
    "    noise = torch.randn(audio.shape) * torch.sqrt(n_var)\n",
    "    noisy_signal = audio + noise\n",
    "    max_abs_noise = torch.max(torch.abs(noisy_signal))\n",
    "\n",
    "    # Normalize the noise tensor\n",
    "    if max_abs_noise > 1:\n",
    "        noisy_signal /= max_abs_noise\n",
    "    return noisy_signal"
   ]
  },
  {
   "cell_type": "code",
   "execution_count": 19,
   "metadata": {},
   "outputs": [],
   "source": [
    "def evaluate(model, test_data, snr):\n",
    "\n",
    "    model.to(device)\n",
    "    classerr = tnt.ClassErrorMeter(accuracy=True, topk=(1, min(len(classes), 5)))\n",
    "    model.eval()\n",
    "\n",
    "    batch = torch.zeros(256, 128, 128)\n",
    "    target_batch = torch.zeros(256)\n",
    "    cntr = 1\n",
    "\n",
    "    with torch.no_grad():\n",
    "        for validation_step, (inputs, targets) in enumerate(test_data):\n",
    "            index_in_batch = np.mod(validation_step, 256)\n",
    "\n",
    "            inputs = snr_mixer2(inputs,snr)\n",
    "            inputs = inputs.unsqueeze(0)\n",
    "            inputs = inputs.to(device)\n",
    "\n",
    "            batch[index_in_batch] = inputs\n",
    "            target_batch[index_in_batch] = targets\n",
    "            if index_in_batch == 255:\n",
    "\n",
    "                batch = batch.to(device)\n",
    "                target_batch = target_batch.to(device)\n",
    "                # compute output from model\n",
    "                output = model(batch)\n",
    "                classerr.add(output, target_batch)\n",
    "                print(\"Batch: [\",cntr*256 ,\"/\", len(test_data),\"]\")\n",
    "                acc = classerr.value()[0]\n",
    "                print(\"Accuracy: \", acc)\n",
    "                cntr += 1\n",
    "                \n",
    "        batch = batch.to(device)\n",
    "        target_batch = target_batch.to(device)\n",
    "        # compute output from model\n",
    "        output = model(batch)\n",
    "        classerr.add(output, target_batch)\n",
    "\n",
    "        print(\"Batch: [\", cntr*256 ,\"/\", len(test_data),\"]\")        \n",
    "        acc = classerr.value()[0]\n",
    "        print(\"Total Accuracy: \", acc)\n",
    "        \n",
    "    return acc"
   ]
  },
  {
   "cell_type": "code",
   "execution_count": null,
   "metadata": {},
   "outputs": [],
   "source": [
    "accuracies = np.zeros((len(strats),17))\n",
    "\n",
    "for i,strat in enumerate(strats):\n",
    "    print(\"Started evaluating :\", strat)\n",
    "    checkpoint = torch.load(strat)\n",
    "    model.load_state_dict(checkpoint['state_dict'], strict=False)\n",
    "    ai8x.update_model(model)\n",
    "\n",
    "    snr_low = torch.tensor(0, dtype=torch.int32)\n",
    "    snr_high = torch.tensor(51, dtype=torch.int32)\n",
    "    cnt = 0\n",
    "\n",
    "    for db in range(snr_low, snr_high):\n",
    "        if db <= 20:\n",
    "            if db % 2 == 0:\n",
    "                print(\"Evaluating SNR levels of\", db)\n",
    "                accuracies[i][cnt] = evaluate(model, test_set, db)\n",
    "                cnt += 1\n",
    "        else:\n",
    "            if  db % 5 == 0:\n",
    "                print(\"Evaluating SNR levels of\", db)\n",
    "                accuracies[i][cnt] = evaluate(model, test_set, db)\n",
    "                cnt += 1"
   ]
  },
  {
   "cell_type": "code",
   "execution_count": 31,
   "metadata": {},
   "outputs": [
    {
     "data": {
      "image/png": "[encoded data removed]",
      "text/plain": [
       "<Figure size 640x480 with 1 Axes>"
      ]
     },
     "metadata": {},
     "output_type": "display_data"
    }
   ],
   "source": [
    "snr_db = np.array([0,2,4,6,8,10,12,14,16,18,20,25,30,35,40,45,50])\n",
    "plt.plot(snr_db,accuracies[0], label = \"strategy_a\")\n",
    "plt.plot(snr_db,accuracies[1], label = \"strategy_b\")\n",
    "plt.plot(snr_db,accuracies[2], label = \"strategy_c\")\n",
    "plt.plot(snr_db,accuracies[3], label = \"strategy_d\")\n",
    "plt.title(\"Gaussian Noise Applied on Test set with KWSNetv1\")\n",
    "plt.xlim((-2, 50))\n",
    "plt.ylim((65, 95))\n",
    "plt.xlabel('Signal-to-noise Ratio (dB)')\n",
    "plt.ylabel('Accuracy (%)')\n",
    "plt.legend(loc=\"lower right\")\n",
    "plt.grid()"
   ]
  }
 ],
 "metadata": {
  "kernelspec": {
   "display_name": "venv",
   "language": "python",
   "name": "python3"
  },
  "language_info": {
   "codemirror_mode": {
    "name": "ipython",
    "version": 3
   },
   "file_extension": ".py",
   "mimetype": "text/x-python",
   "name": "python",
   "nbconvert_exporter": "python",
   "pygments_lexer": "ipython3",
   "version": "3.8.11"
  },
  "orig_nbformat": 4
 },
 "nbformat": 4,
 "nbformat_minor": 2
}
