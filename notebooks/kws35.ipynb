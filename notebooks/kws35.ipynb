{
 "cells": [
  {
   "cell_type": "code",
   "execution_count": 1,
   "metadata": {},
   "outputs": [],
   "source": [
    "import os\n",
    "import sys\n",
    "\n",
    "import numpy as np\n",
    "import torch\n",
    "\n",
    "import matplotlib.pyplot as plt\n",
    "import seaborn as sns\n",
    "\n",
    "import scipy.io.wavfile as wav\n",
    "\n",
    "import importlib\n",
    "import librosa\n",
    "import soundfile as sf\n",
    "\n",
    "import torchnet.meter as tnt\n",
    "from collections import OrderedDict\n",
    "\n",
    "from IPython.display import clear_output\n",
    "\n",
    "sys.path.append(os.path.join(os.getcwd(), '..'))\n",
    "sys.path.append(os.path.join(os.getcwd(), '../models/'))\n",
    "sys.path.append(os.path.join(os.getcwd(), '../datasets/'))\n",
    "\n",
    "import ai8x\n",
    "\n",
    "from types import SimpleNamespace"
   ]
  },
  {
   "cell_type": "code",
   "execution_count": 2,
   "metadata": {},
   "outputs": [],
   "source": [
    "trained_checkpoint_path = os.path.join(\"/home/merveeyuboglu/Github/ai8x-training-merve/ai8x-training/logs/train_kws35/2024.05.23-103316/qat_best.pth.tar\")\n",
    "mod_qat = importlib.import_module(\"ai85net-kws20-nas\")\n",
    "dataset = importlib.import_module(\"kws20\")"
   ]
  },
  {
   "cell_type": "code",
   "execution_count": 3,
   "metadata": {},
   "outputs": [
    {
     "name": "stdout",
     "output_type": "stream",
     "text": [
      "Working with device: cuda\n",
      "Configuring device: MAX78000, simulate=False.\n"
     ]
    }
   ],
   "source": [
    "device = torch.device('cuda' if torch.cuda.is_available() else 'cpu')\n",
    "print(\"Working with device:\", device)\n",
    "\n",
    "ai8x.set_device(device=85, simulate=False, round_avg=False)\n",
    "# qat_policy = {'start_epoch': 10, 'weight_bits': 8, 'bias_bits': 8}"
   ]
  },
  {
   "cell_type": "code",
   "execution_count": 4,
   "metadata": {},
   "outputs": [],
   "source": [
    "model = mod_qat.AI85KWS20NetNAS(num_classes=35, num_channels=128, dimensions=(128, 1), bias=True, \n",
    "                           quantize_activation=False)\n",
    "\n",
    "\n",
    "checkpoint = torch.load(trained_checkpoint_path)\n",
    "\n",
    "state_dict = checkpoint['state_dict']\n",
    "new_state_dict = OrderedDict()\n",
    "for k, v in state_dict.items():\n",
    "    if k.startswith('module.'):\n",
    "        k = k[7:]\n",
    "    new_state_dict[k] = v\n",
    "checkpoint['state_dict'] = new_state_dict\n",
    "\n",
    "ai8x.fuse_bn_layers(model)\n",
    "\n",
    "model.load_state_dict(checkpoint['state_dict'], strict=False)\n",
    "\n",
    "ai8x.update_model(model)"
   ]
  },
  {
   "cell_type": "code",
   "execution_count": 5,
   "metadata": {},
   "outputs": [
    {
     "name": "stdout",
     "output_type": "stream",
     "text": [
      "\n",
      "Processing test...\n",
      "test set: 11413 elements\n",
      "Filtering silence elements...\n",
      "test set: 11005 elements\n",
      "Class backward (# 0): 165 elements\n",
      "Class bed (# 1): 207 elements\n",
      "Class bird (# 2): 185 elements\n",
      "Class cat (# 3): 194 elements\n",
      "Class dog (# 4): 220 elements\n",
      "Class down (# 5): 406 elements\n",
      "Class eight (# 6): 408 elements\n",
      "Class five (# 7): 445 elements\n",
      "Class follow (# 8): 172 elements\n",
      "Class forward (# 9): 155 elements\n",
      "Class four (# 10): 400 elements\n",
      "Class go (# 11): 402 elements\n",
      "Class happy (# 12): 203 elements\n",
      "Class house (# 13): 191 elements\n",
      "Class learn (# 14): 161 elements\n",
      "Class left (# 15): 412 elements\n",
      "Class marvin (# 17): 195 elements\n",
      "Class nine (# 18): 408 elements\n",
      "Class no (# 19): 405 elements\n",
      "Class off (# 20): 402 elements\n",
      "Class on (# 21): 396 elements\n",
      "Class one (# 22): 399 elements\n",
      "Class right (# 23): 396 elements\n",
      "Class seven (# 24): 406 elements\n",
      "Class sheila (# 25): 212 elements\n",
      "Class six (# 27): 394 elements\n",
      "Class stop (# 28): 411 elements\n",
      "Class three (# 29): 405 elements\n",
      "Class tree (# 30): 193 elements\n",
      "Class two (# 31): 424 elements\n",
      "Class up (# 32): 425 elements\n",
      "Class visual (# 33): 165 elements\n",
      "Class wow (# 34): 206 elements\n",
      "Class yes (# 35): 419 elements\n",
      "Class zero (# 36): 418 elements\n",
      "Class UNKNOWN: 0 elements\n"
     ]
    }
   ],
   "source": [
    "sn = SimpleNamespace()\n",
    "sn.truncate_testset = False\n",
    "sn.act_mode_8bit = False\n",
    "\n",
    "_, test = dataset.KWS_35_get_datasets( ('/data_ssd', sn), load_train=False, load_test=True)\n",
    "\n",
    "\n",
    "test_loader = torch.utils.data.DataLoader(test, batch_size=256)"
   ]
  },
  {
   "cell_type": "code",
   "execution_count": 6,
   "metadata": {},
   "outputs": [
    {
     "data": {
      "text/plain": [
       "{'backward': 0,\n",
       " 'bed': 1,\n",
       " 'bird': 2,\n",
       " 'cat': 3,\n",
       " 'dog': 4,\n",
       " 'down': 5,\n",
       " 'eight': 6,\n",
       " 'five': 7,\n",
       " 'follow': 8,\n",
       " 'forward': 9,\n",
       " 'four': 10,\n",
       " 'go': 11,\n",
       " 'happy': 12,\n",
       " 'house': 13,\n",
       " 'learn': 14,\n",
       " 'left': 15,\n",
       " 'marvin': 16,\n",
       " 'nine': 17,\n",
       " 'no': 18,\n",
       " 'off': 19,\n",
       " 'on': 20,\n",
       " 'one': 21,\n",
       " 'right': 22,\n",
       " 'seven': 23,\n",
       " 'sheila': 24,\n",
       " 'six': 25,\n",
       " 'stop': 26,\n",
       " 'three': 27,\n",
       " 'tree': 28,\n",
       " 'two': 29,\n",
       " 'up': 30,\n",
       " 'visual': 31,\n",
       " 'wow': 32,\n",
       " 'yes': 33,\n",
       " 'zero': 34,\n",
       " 'UNKNOWN': 35}"
      ]
     },
     "execution_count": 6,
     "metadata": {},
     "output_type": "execute_result"
    }
   ],
   "source": [
    "test.new_class_dict"
   ]
  },
  {
   "cell_type": "code",
   "execution_count": 14,
   "metadata": {},
   "outputs": [
    {
     "name": "stdout",
     "output_type": "stream",
     "text": [
      "Total Accuracy:  92.90653580191835\n"
     ]
    }
   ],
   "source": [
    "classerr_test = tnt.ClassErrorMeter(accuracy=True, topk=(1, min(35, 5)))\n",
    "test_confusion = tnt.ConfusionMeter(35)\n",
    "outputs_all = np.zeros((len(test), 35))\n",
    "targets_all = np.zeros((len(test)))\n",
    "with torch.no_grad():\n",
    "    for batch_idx, (inputs, targets) in enumerate(test_loader):\n",
    "        outputs = model(inputs)\n",
    "        classerr_test.add(outputs, targets)\n",
    "        test_confusion.add(outputs, targets)\n",
    "        #print(\"Batch: [\",batch_idx*256 ,\"/\", len(val_dataset),\"]\")\n",
    "        test_acc = classerr_test.value()[0]\n",
    "        #print(\"Accuracy: \", acc)\n",
    "        outputs_all[batch_idx*256:batch_idx*256+len(inputs)] = outputs.cpu().numpy()\n",
    "        targets_all[batch_idx*256:batch_idx*256+len(inputs)] = targets.cpu().numpy()\n",
    "    print(\"Total Accuracy: \", test_acc)"
   ]
  },
  {
   "cell_type": "code",
   "execution_count": 7,
   "metadata": {},
   "outputs": [],
   "source": [
    "classes_35 = [5, 11, 15, 18, 19, 20, 22, 26, 30, 33]"
   ]
  },
  {
   "cell_type": "code",
   "execution_count": 8,
   "metadata": {},
   "outputs": [
    {
     "name": "stdout",
     "output_type": "stream",
     "text": [
      "Total Accuracy:  95.93820990458882\n"
     ]
    }
   ],
   "source": [
    "classerr_test = tnt.ClassErrorMeter(accuracy=True, topk=(1, min(11, 5)))\n",
    "test_confusion = tnt.ConfusionMeter(11)\n",
    "outputs_all = np.zeros((len(test), 11))\n",
    "targets_all = np.zeros((len(test)))\n",
    "with torch.no_grad():\n",
    "    for batch_idx, (inputs, targets) in enumerate(test_loader):\n",
    "        outputs = model(inputs)\n",
    "        targets_12_idx = [idx for idx, i in enumerate(targets) if i not in classes_35]\n",
    "        \n",
    "        for i in targets_12_idx:\n",
    "            targets[i] = 10\n",
    "\n",
    "        outputs_12_idx = [idx for idx, i in enumerate(np.argmax(outputs, 1)) if i not in classes_35]\n",
    "        outputs_12 = torch.empty((len(inputs), 11))\n",
    "        for idx in range(len(inputs)):\n",
    "        \n",
    "            if targets[idx] == 5:\n",
    "                targets[idx] = 0\n",
    "            elif targets[idx] == 11:\n",
    "                targets[idx] = 1\n",
    "            elif targets[idx] == 15:\n",
    "                targets[idx] = 2\n",
    "            elif targets[idx] == 18:\n",
    "                targets[idx] = 3\n",
    "            elif targets[idx] == 19:\n",
    "                targets[idx] = 4\n",
    "            elif targets[idx] == 20:\n",
    "                targets[idx] = 5\n",
    "            elif targets[idx] == 22:\n",
    "                targets[idx] = 6\n",
    "            elif targets[idx] == 26:\n",
    "                targets[idx] = 7\n",
    "            elif targets[idx] == 30:\n",
    "                targets[idx] = 8\n",
    "            elif targets[idx] == 33:\n",
    "                targets[idx] = 9\n",
    "            else:\n",
    "                targets[idx] = 10\n",
    "\n",
    "            if idx in outputs_12_idx:\n",
    "                outputs_12[idx][10] = 100\n",
    "                for i in [0,1,2,3,4,5,6,7,8,9]:\n",
    "                    outputs_12[idx][i] = 0\n",
    "            else:\n",
    "                outputs_12[idx][0] = outputs[idx][5]\n",
    "                outputs_12[idx][1] = outputs[idx][11]\n",
    "                outputs_12[idx][2] = outputs[idx][15]\n",
    "                outputs_12[idx][3] = outputs[idx][18]\n",
    "                outputs_12[idx][4] = outputs[idx][19]\n",
    "                outputs_12[idx][5] = outputs[idx][20]\n",
    "                outputs_12[idx][6] = outputs[idx][22]\n",
    "                outputs_12[idx][7] = outputs[idx][26]\n",
    "                outputs_12[idx][8] = outputs[idx][30]\n",
    "                outputs_12[idx][9] = outputs[idx][33]\n",
    "                outputs_12[idx][10] = -100\n",
    "\n",
    "        outputs_12 = outputs_12.to(device)\n",
    "        targets = targets.to(device)\n",
    "\n",
    "        classerr_test.add(outputs_12, targets)\n",
    "        test_confusion.add(outputs_12, targets)\n",
    "        #print(\"Batch: [\",batch_idx*256 ,\"/\", len(val_dataset),\"]\")\n",
    "        test_acc = classerr_test.value()[0]\n",
    "        #print(\"Accuracy: \", acc)\n",
    "        outputs_all[batch_idx*256:batch_idx*256+len(inputs)] = outputs_12.cpu().numpy()\n",
    "        targets_all[batch_idx*256:batch_idx*256+len(inputs)] = targets.cpu().numpy()\n",
    "    print(\"Total Accuracy: \", test_acc)"
   ]
  },
  {
   "cell_type": "code",
   "execution_count": 9,
   "metadata": {},
   "outputs": [
    {
     "data": {
      "text/plain": [
       "array([[  9,   0,   0, ...,   0,   0,   0],\n",
       "       [  0,  11,   0, ...,   0,   0,   0],\n",
       "       [  0,   0,  10, ...,   0,   0,   0],\n",
       "       ...,\n",
       "       [  0,   0,   0, ...,  12,   0,   0],\n",
       "       [  0,   0,   0, ...,   0, 407,   1],\n",
       "       [  0,   0,   0, ...,   0,   0,  22]], dtype=int32)"
      ]
     },
     "execution_count": 9,
     "metadata": {},
     "output_type": "execute_result"
    }
   ],
   "source": [
    "test_confusion.value()"
   ]
  },
  {
   "cell_type": "code",
   "execution_count": 15,
   "metadata": {},
   "outputs": [
    {
     "name": "stdout",
     "output_type": "stream",
     "text": [
      "[[  9   0   0   0   0   0   0   0   0   0   0   0   0   0   0   0   0   0\n",
      "    0   0   0   0   0   0   0   0   0   0   0   0   0   0   0   0   0]\n",
      " [  0  11   0   0   0   0   0   0   0   0   0   0   0   0   0   0   0   0\n",
      "    0   0   0   0   0   0   0   0   0   0   0   0   0   0   0   0   0]\n",
      " [  0   0  10   0   0   0   0   0   0   0   0   0   0   0   0   0   0   0\n",
      "    0   0   0   0   0   0   0   0   0   0   0   0   0   0   0   0   0]\n",
      " [  0   0   0  10   0   0   0   0   0   0   0   0   0   0   0   0   0   0\n",
      "    0   0   0   0   0   0   0   0   0   0   0   0   0   0   0   0   0]\n",
      " [  0   0   0   0   7   0   0   0   0   0   0   0   0   0   0   0   0   0\n",
      "    0   0   0   0   0   0   0   0   0   0   0   0   0   0   0   0   0]\n",
      " [  0   2   0   4   6 360   0   1   1   0   0  12   0   1   2   0   0   4\n",
      "    8   0   0   0   0   0   1   0   3   0   0   0   1   0   0   0   0]\n",
      " [  0   0   0   0   0   0  34   0   0   0   0   0   0   0   0   0   0   0\n",
      "    0   0   0   0   0   0   0   0   0   0   0   0   0   0   0   0   0]\n",
      " [  0   1   1   0   0   0   0  20   0   0   0   0   0   0   0   0   0   0\n",
      "    0   0   1   0   0   0   0   0   0   0   0   0   0   0   0   0   0]\n",
      " [  0   0   0   0   0   0   0   0   9   0   0   0   0   0   0   0   0   0\n",
      "    0   0   0   0   0   0   0   0   0   0   0   0   0   0   0   0   0]\n",
      " [  0   0   0   0   0   0   0   0   2   9   2   0   0   0   0   0   0   0\n",
      "    0   0   0   0   0   0   0   0   0   0   0   0   0   0   0   0   0]\n",
      " [  0   0   0   0   0   0   0   0   0   0  18   0   0   0   0   0   0   0\n",
      "    0   0   0   0   0   0   0   0   0   0   0   0   0   0   0   0   0]\n",
      " [  0   2   1   1   1   2   0   0   0   0   4 375   0   0   1   1   0   0\n",
      "    8   0   0   1   1   1   0   0   0   1   0   0   1   0   0   1   0]\n",
      " [  0   0   0   0   0   0   1   0   0   0   0   0  18   0   0   0   0   0\n",
      "    0   0   0   0   0   2   0   0   0   0   0   0   0   0   0   0   0]\n",
      " [  0   0   0   0   0   0   0   0   0   0   0   0   0   9   0   0   0   0\n",
      "    1   0   0   0   0   0   0   0   0   0   0   0   0   0   0   0   0]\n",
      " [  0   0   0   0   0   0   0   0   0   0   0   1   0   0   6   0   0   0\n",
      "    1   0   0   0   0   0   1   0   0   1   0   0   0   0   0   0   0]\n",
      " [  0   0   0   1   0   0   0   0   0   0   0   1   1   0   5 399   0   0\n",
      "    1   0   0   0   0   0   0   0   0   1   0   0   1   0   0   2   0]\n",
      " [  0   0   0   0   0   0   0   0   0   0   0   0   0   0   0   0  11   0\n",
      "    0   0   0   0   0   0   0   0   0   0   0   0   0   0   0   0   0]\n",
      " [  0   0   0   0   0   0   0   0   0   0   0   0   0   0   0   0   0  24\n",
      "    0   0   0   0   0   0   0   0   0   0   0   0   0   0   0   0   0]\n",
      " [  0   0   0   0   0   1   0   0   0   0   1   1   0   0   4   6   0   5\n",
      "  383   0   0   0   0   0   1   0   0   0   0   0   0   0   0   1   2]\n",
      " [  0   0   0   0   2   0   0   0   0   0   3   1   0   3   0   0   0   1\n",
      "    1 352   4   0   0   0   0   0   0   0   0   0  34   1   0   0   0]\n",
      " [  0   0   1   0   0   0   0   1   1   0   0   0   0   0   1   0   1   0\n",
      "    0  11 372   2   1   1   0   0   0   0   2   1   1   0   0   0   0]\n",
      " [  0   0   0   0   0   0   0   1   0   1   0   0   0   0   0   0   1   0\n",
      "    0   0   0  22   0   0   0   0   0   0   0   0   0   0   0   0   0]\n",
      " [  1   2   1   0   0   1   1   8   0   0   0   0   0   1   3   3   0   0\n",
      "    0   2   0   2 365   1   0   0   0   3   0   0   1   0   1   0   0]\n",
      " [  0   0   0   0   0   0   0   0   0   0   0   0   0   0   0   0   0   0\n",
      "    0   0   0   0   0  18   0   0   0   0   0   0   0   0   0   0   0]\n",
      " [  0   0   0   0   0   0   0   0   0   0   0   0   0   0   0   0   0   0\n",
      "    0   0   0   0   0   0  16   0   0   0   0   0   0   0   0   0   1]\n",
      " [  0   0   0   1   0   0   0   0   0   0   0   0   0   0   0   0   0   0\n",
      "    0   0   0   0   0   1   0  26   0   0   0   0   0   0   0   0   0]\n",
      " [  0   0   1   0   6   0   0   0   0   0   0   1   0   0   0   0   0   0\n",
      "    2   0   0   0   0   0   0   0 391   2   0   1   6   0   1   0   0]\n",
      " [  0   0   0   0   0   0   0   0   0   0   0   0   0   0   0   0   0   0\n",
      "    0   0   0   0   0   0   0   1   0  24   1   0   0   0   0   0   0]\n",
      " [  0   0   0   0   0   0   0   0   0   0   0   0   0   0   0   0   0   0\n",
      "    0   0   0   0   0   0   0   1   0   0   8   0   1   0   0   0   0]\n",
      " [  0   0   0   0   0   0   0   0   0   0   0   0   0   0   0   0   0   0\n",
      "    0   0   0   0   0   0   0   0   0   1   0  19   0   0   0   0   0]\n",
      " [  0   0   1   2   0   0   3   1   1   0   0   1   0   1   0   1   0   0\n",
      "    0  24   0   0   0   0   0   1   4   0   0   1 384   0   0   0   0]\n",
      " [  0   0   0   0   0   0   1   0   0   0   0   0   0   0   0   0   0   0\n",
      "    0   0   0   0   0   0   0   0   0   0   0   0   0   5   0   0   0]\n",
      " [  0   0   0   0   0   0   0   0   0   0   0   0   0   0   0   2   0   0\n",
      "    0   0   0   1   0   0   0   0   0   0   0   0   0   0  12   0   0]\n",
      " [  0   0   0   1   0   0   0   0   0   0   0   2   0   1   0   2   0   0\n",
      "    0   0   0   1   3   0   0   1   0   0   0   0   0   0   0 407   1]\n",
      " [  0   0   0   0   0   0   0   0   0   0   0   1   0   0   0   0   0   0\n",
      "    0   0   0   0   0   0   1   0   0   0   0   0   0   0   0   0  22]]\n"
     ]
    }
   ],
   "source": [
    "np.disp(test_confusion.value())"
   ]
  },
  {
   "cell_type": "code",
   "execution_count": 13,
   "metadata": {},
   "outputs": [],
   "source": [
    "np.set_printoptions(threshold=sys.maxsize)"
   ]
  },
  {
   "cell_type": "code",
   "execution_count": 13,
   "metadata": {},
   "outputs": [
    {
     "ename": "IndexError",
     "evalue": "index 11 is out of bounds for axis 0 with size 11",
     "output_type": "error",
     "traceback": [
      "\u001b[0;31m---------------------------------------------------------------------------\u001b[0m",
      "\u001b[0;31mIndexError\u001b[0m                                Traceback (most recent call last)",
      "Cell \u001b[0;32mIn[13], line 3\u001b[0m\n\u001b[1;32m      1\u001b[0m \u001b[39msum\u001b[39m \u001b[39m=\u001b[39m \u001b[39m0\u001b[39m\n\u001b[1;32m      2\u001b[0m \u001b[39mfor\u001b[39;00m i \u001b[39min\u001b[39;00m \u001b[39mrange\u001b[39m(\u001b[39m35\u001b[39m):\n\u001b[0;32m----> 3\u001b[0m     \u001b[39msum\u001b[39m \u001b[39m+\u001b[39m\u001b[39m=\u001b[39m test_confusion\u001b[39m.\u001b[39;49mvalue()[i][i]\n\u001b[1;32m      4\u001b[0m \u001b[39mprint\u001b[39m(\u001b[39msum\u001b[39m)\n\u001b[1;32m      5\u001b[0m \u001b[39mprint\u001b[39m(np\u001b[39m.\u001b[39msum(test_confusion\u001b[39m.\u001b[39mvalue()))\n",
      "\u001b[0;31mIndexError\u001b[0m: index 11 is out of bounds for axis 0 with size 11"
     ]
    }
   ],
   "source": [
    "sum = 0\n",
    "for i in range(35):\n",
    "    sum += test_confusion.value()[i][i]\n",
    "print(sum)\n",
    "print(np.sum(test_confusion.value()))"
   ]
  },
  {
   "cell_type": "code",
   "execution_count": null,
   "metadata": {},
   "outputs": [],
   "source": []
  },
  {
   "cell_type": "code",
   "execution_count": 7,
   "metadata": {},
   "outputs": [],
   "source": [
    "classes = ['down', 'go', 'left', 'no', 'off', 'on', 'right', 'stop', 'up', 'yes']"
   ]
  },
  {
   "cell_type": "code",
   "execution_count": 6,
   "metadata": {},
   "outputs": [],
   "source": [
    "classes_35 = [5, 11, 15, 18, 19, 20, 22, 26, 30, 33]"
   ]
  },
  {
   "cell_type": "code",
   "execution_count": 9,
   "metadata": {},
   "outputs": [
    {
     "name": "stdout",
     "output_type": "stream",
     "text": [
      "Total Accuracy:  95.93820990458882\n"
     ]
    }
   ],
   "source": [
    "classerr_test = tnt.ClassErrorMeter(accuracy=True, topk=(1, min(11, 5)))\n",
    "test_confusion = tnt.ConfusionMeter(11)\n",
    "outputs_all = np.zeros((len(test), 11))\n",
    "targets_all = np.zeros((len(test)))\n",
    "with torch.no_grad():\n",
    "    for batch_idx, (inputs, targets) in enumerate(test_loader):\n",
    "        outputs = model(inputs)\n",
    "        targets_12_idx = [idx for idx, i in enumerate(targets) if i not in classes_35]\n",
    "        \n",
    "        for i in targets_12_idx:\n",
    "            targets[i] = 10\n",
    "\n",
    "        outputs_12_idx = [idx for idx, i in enumerate(np.argmax(outputs, 1)) if i not in classes_35]\n",
    "        outputs_12 = torch.empty((len(inputs), 11))\n",
    "        for idx in range(len(inputs)):\n",
    "        \n",
    "            if targets[idx] == 5:\n",
    "                targets[idx] = 0\n",
    "            elif targets[idx] == 11:\n",
    "                targets[idx] = 1\n",
    "            elif targets[idx] == 15:\n",
    "                targets[idx] = 2\n",
    "            elif targets[idx] == 18:\n",
    "                targets[idx] = 3\n",
    "            elif targets[idx] == 19:\n",
    "                targets[idx] = 4\n",
    "            elif targets[idx] == 20:\n",
    "                targets[idx] = 5\n",
    "            elif targets[idx] == 22:\n",
    "                targets[idx] = 6\n",
    "            elif targets[idx] == 26:\n",
    "                targets[idx] = 7\n",
    "            elif targets[idx] == 30:\n",
    "                targets[idx] = 8\n",
    "            elif targets[idx] == 33:\n",
    "                targets[idx] = 9\n",
    "            else:\n",
    "                targets[idx] = 10\n",
    "\n",
    "            if idx in outputs_12_idx:\n",
    "                outputs_12[idx][10] = 100\n",
    "                for i in [0,1,2,3,4,5,6,7,8,9]:\n",
    "                    outputs_12[idx][i] = 0\n",
    "            else:\n",
    "                outputs_12[idx][0] = outputs[idx][5]\n",
    "                outputs_12[idx][1] = outputs[idx][11]\n",
    "                outputs_12[idx][2] = outputs[idx][15]\n",
    "                outputs_12[idx][3] = outputs[idx][18]\n",
    "                outputs_12[idx][4] = outputs[idx][19]\n",
    "                outputs_12[idx][5] = outputs[idx][20]\n",
    "                outputs_12[idx][6] = outputs[idx][22]\n",
    "                outputs_12[idx][7] = outputs[idx][26]\n",
    "                outputs_12[idx][8] = outputs[idx][30]\n",
    "                outputs_12[idx][9] = outputs[idx][33]\n",
    "                outputs_12[idx][10] = -100\n",
    "\n",
    "        outputs_12 = outputs_12.to(device)\n",
    "        targets = targets.to(device)\n",
    "\n",
    "        classerr_test.add(outputs_12, targets)\n",
    "        test_confusion.add(outputs_12, targets)\n",
    "        #print(\"Batch: [\",batch_idx*256 ,\"/\", len(val_dataset),\"]\")\n",
    "        test_acc = classerr_test.value()[0]\n",
    "        #print(\"Accuracy: \", acc)\n",
    "        outputs_all[batch_idx*256:batch_idx*256+len(inputs)] = outputs_12.cpu().numpy()\n",
    "        targets_all[batch_idx*256:batch_idx*256+len(inputs)] = targets.cpu().numpy()\n",
    "    print(\"Total Accuracy: \", test_acc)"
   ]
  },
  {
   "cell_type": "code",
   "execution_count": 10,
   "metadata": {},
   "outputs": [
    {
     "name": "stdout",
     "output_type": "stream",
     "text": [
      "[[ 360   12    0    8    0    0    0    3    1    0   22]\n",
      " [   2  375    1    8    0    0    1    0    1    1   13]\n",
      " [   0    1  399    1    0    0    0    0    1    2    8]\n",
      " [   1    1    6  383    0    0    0    0    0    1   13]\n",
      " [   0    1    0    1  352    4    0    0   34    0   10]\n",
      " [   0    0    0    0   11  372    1    0    1    0   11]\n",
      " [   1    0    3    0    2    0  365    0    1    0   24]\n",
      " [   0    1    0    2    0    0    0  391    6    0   11]\n",
      " [   0    1    1    0   24    0    0    4  384    0   11]\n",
      " [   0    2    2    0    0    0    3    0    0  407    5]\n",
      " [  17   20   19   26   15   23   12   14   13    2 6770]]\n"
     ]
    }
   ],
   "source": [
    "np.disp(test_confusion.value())"
   ]
  },
  {
   "cell_type": "markdown",
   "metadata": {},
   "source": [
    "## tests on benchmark dataset without silence class"
   ]
  },
  {
   "cell_type": "code",
   "execution_count": 11,
   "metadata": {},
   "outputs": [
    {
     "name": "stdout",
     "output_type": "stream",
     "text": [
      "\n",
      "Processing test...\n",
      "test set: 4891 elements\n",
      "Class down (# 5): 406 elements\n",
      "Class go (# 11): 402 elements\n",
      "Class left (# 15): 412 elements\n",
      "Class no (# 19): 405 elements\n",
      "Class off (# 20): 402 elements\n",
      "Class on (# 21): 396 elements\n",
      "Class right (# 23): 396 elements\n",
      "Class stop (# 28): 411 elements\n",
      "Class up (# 32): 425 elements\n",
      "Class yes (# 35): 419 elements\n",
      "Class silence (# 26): 408 elements\n",
      "Class UNKNOWN: 409 elements\n"
     ]
    }
   ],
   "source": [
    "sn = SimpleNamespace()\n",
    "sn.truncate_testset = False\n",
    "sn.act_mode_8bit = False\n",
    "\n",
    "_, test_benchmark = dataset.KWS_12_benchmark_get_datasets( ('/data_ssd', sn), load_train=False, load_test=True)\n",
    "benchmark_loader = torch.utils.data.DataLoader(test_benchmark, batch_size=256)"
   ]
  },
  {
   "cell_type": "code",
   "execution_count": 12,
   "metadata": {},
   "outputs": [
    {
     "data": {
      "text/plain": [
       "{'down': 0,\n",
       " 'go': 1,\n",
       " 'left': 2,\n",
       " 'no': 3,\n",
       " 'off': 4,\n",
       " 'on': 5,\n",
       " 'right': 6,\n",
       " 'stop': 7,\n",
       " 'up': 8,\n",
       " 'yes': 9,\n",
       " 'silence': 10,\n",
       " 'UNKNOWN': 11}"
      ]
     },
     "execution_count": 12,
     "metadata": {},
     "output_type": "execute_result"
    }
   ],
   "source": [
    "test_benchmark.new_class_dict"
   ]
  },
  {
   "cell_type": "code",
   "execution_count": 13,
   "metadata": {},
   "outputs": [
    {
     "name": "stdout",
     "output_type": "stream",
     "text": [
      "Total Accuracy:  91.65814761807401\n"
     ]
    }
   ],
   "source": [
    "classerr_test = tnt.ClassErrorMeter(accuracy=True, topk=(1, min(11, 5)))\n",
    "test_confusion = tnt.ConfusionMeter(11)\n",
    "outputs_all = np.zeros((len(test), 11))\n",
    "targets_all = np.zeros((len(test)))\n",
    "\n",
    "with torch.no_grad():\n",
    "    for batch_idx, (inputs, targets) in enumerate(benchmark_loader):\n",
    "        outputs = model(inputs)\n",
    "\n",
    "        outputs_12_idx = [idx for idx, i in enumerate(np.argmax(outputs, 1)) if i not in classes_35]\n",
    "        outputs_12 = torch.empty((len(inputs), 11))\n",
    "        \n",
    "        for idx in range(len(inputs)):\n",
    "\n",
    "            if targets[idx] == 11:\n",
    "                targets[idx] = 10\n",
    "\n",
    "            if idx in outputs_12_idx:\n",
    "                outputs_12[idx][10] = 100\n",
    "                for i in [0,1,2,3,4,5,6,7,8,9]:\n",
    "                    outputs_12[idx][i] = 0\n",
    "            else:\n",
    "                outputs_12[idx][0] = outputs[idx][5]\n",
    "                outputs_12[idx][1] = outputs[idx][11]\n",
    "                outputs_12[idx][2] = outputs[idx][15]\n",
    "                outputs_12[idx][3] = outputs[idx][18]\n",
    "                outputs_12[idx][4] = outputs[idx][19]\n",
    "                outputs_12[idx][5] = outputs[idx][20]\n",
    "                outputs_12[idx][6] = outputs[idx][22]\n",
    "                outputs_12[idx][7] = outputs[idx][26]\n",
    "                outputs_12[idx][8] = outputs[idx][30]\n",
    "                outputs_12[idx][9] = outputs[idx][33]\n",
    "                outputs_12[idx][10] = -100\n",
    "\n",
    "        outputs_12 = outputs_12.to(device)\n",
    "        targets = targets.to(device)\n",
    "\n",
    "        classerr_test.add(outputs_12, targets)\n",
    "        test_confusion.add(outputs_12, targets)\n",
    "        test_acc = classerr_test.value()[0]\n",
    "        outputs_all[batch_idx*256:batch_idx*256+len(inputs)] = outputs_12.cpu().numpy()\n",
    "        targets_all[batch_idx*256:batch_idx*256+len(inputs)] = targets.cpu().numpy()\n",
    "    print(\"Total Accuracy: \", test_acc)"
   ]
  },
  {
   "cell_type": "code",
   "execution_count": 14,
   "metadata": {},
   "outputs": [
    {
     "name": "stdout",
     "output_type": "stream",
     "text": [
      "[[360  12   0   8   0   0   0   3   1   0  22]\n",
      " [  2 375   1   8   0   0   1   0   1   1  13]\n",
      " [  0   1 399   1   0   0   0   0   1   2   8]\n",
      " [  1   1   6 383   0   0   0   0   0   1  13]\n",
      " [  0   1   0   1 352   4   0   0  34   0  10]\n",
      " [  0   0   0   0  11 372   1   0   1   0  11]\n",
      " [  1   0   3   0   2   0 365   0   1   0  24]\n",
      " [  0   1   0   2   0   0   0 391   6   0  11]\n",
      " [  0   1   1   0  24   0   0   4 384   0  11]\n",
      " [  0   2   2   0   0   0   3   0   0 407   5]\n",
      " [  6  36   7   6   5   6   0  27  10  19 695]]\n"
     ]
    }
   ],
   "source": [
    "np.disp(test_confusion.value())"
   ]
  },
  {
   "cell_type": "code",
   "execution_count": null,
   "metadata": {},
   "outputs": [],
   "source": []
  },
  {
   "cell_type": "code",
   "execution_count": 5,
   "metadata": {},
   "outputs": [
    {
     "name": "stdout",
     "output_type": "stream",
     "text": [
      "\n",
      "Processing test...\n",
      "test set: 4891 elements\n",
      "Filtering silence elements...\n",
      "test set: 4483 elements\n",
      "Class backward (# 0): 9 elements\n",
      "Class bed (# 1): 11 elements\n",
      "Class bird (# 2): 10 elements\n",
      "Class cat (# 3): 10 elements\n",
      "Class dog (# 4): 7 elements\n",
      "Class down (# 5): 406 elements\n",
      "Class eight (# 6): 34 elements\n",
      "Class five (# 7): 23 elements\n",
      "Class follow (# 8): 9 elements\n",
      "Class forward (# 9): 13 elements\n",
      "Class four (# 10): 18 elements\n",
      "Class go (# 11): 402 elements\n",
      "Class happy (# 12): 21 elements\n",
      "Class house (# 13): 10 elements\n",
      "Class learn (# 14): 10 elements\n",
      "Class left (# 15): 412 elements\n",
      "Class marvin (# 17): 11 elements\n",
      "Class nine (# 18): 24 elements\n",
      "Class no (# 19): 405 elements\n",
      "Class off (# 20): 402 elements\n",
      "Class on (# 21): 396 elements\n",
      "Class one (# 22): 25 elements\n",
      "Class right (# 23): 396 elements\n",
      "Class seven (# 24): 18 elements\n",
      "Class sheila (# 25): 17 elements\n",
      "Class six (# 27): 28 elements\n",
      "Class stop (# 28): 411 elements\n",
      "Class three (# 29): 26 elements\n",
      "Class tree (# 30): 10 elements\n",
      "Class two (# 31): 20 elements\n",
      "Class up (# 32): 425 elements\n",
      "Class visual (# 33): 6 elements\n",
      "Class wow (# 34): 15 elements\n",
      "Class yes (# 35): 419 elements\n",
      "Class zero (# 36): 24 elements\n",
      "Class UNKNOWN: 0 elements\n"
     ]
    }
   ],
   "source": [
    "sn = SimpleNamespace()\n",
    "sn.truncate_testset = False\n",
    "sn.act_mode_8bit = False\n",
    "\n",
    "_, test = dataset.KWS_35_get_datasets( ('/data_ssd', sn), load_train=False, load_test=True)\n",
    "\n",
    "\n",
    "test_loader = torch.utils.data.DataLoader(test, batch_size=256)"
   ]
  },
  {
   "cell_type": "code",
   "execution_count": 7,
   "metadata": {},
   "outputs": [],
   "source": [
    "classes_35 = [5, 11, 15, 18, 19, 20, 22, 26, 30, 33]"
   ]
  },
  {
   "cell_type": "code",
   "execution_count": 11,
   "metadata": {},
   "outputs": [
    {
     "name": "stdout",
     "output_type": "stream",
     "text": [
      "Total Accuracy:  93.44189159045283\n"
     ]
    }
   ],
   "source": [
    "classerr_test = tnt.ClassErrorMeter(accuracy=True, topk=(1, min(11, 5)))\n",
    "test_confusion = tnt.ConfusionMeter(11)\n",
    "outputs_all = np.zeros((len(test), 11))\n",
    "targets_all = np.zeros((len(test)))\n",
    "with torch.no_grad():\n",
    "    for batch_idx, (inputs, targets) in enumerate(test_loader):\n",
    "        outputs = model(inputs)\n",
    "        targets_12_idx = [idx for idx, i in enumerate(targets) if i not in classes_35]\n",
    "        \n",
    "        for i in targets_12_idx:\n",
    "            targets[i] = 10\n",
    "\n",
    "        outputs_12_idx = [idx for idx, i in enumerate(np.argmax(outputs, 1)) if i not in classes_35]\n",
    "        outputs_12 = torch.empty((len(inputs), 11))\n",
    "        for idx in range(len(inputs)):\n",
    "        \n",
    "            if targets[idx] == 5:\n",
    "                targets[idx] = 0\n",
    "            elif targets[idx] == 11:\n",
    "                targets[idx] = 1\n",
    "            elif targets[idx] == 15:\n",
    "                targets[idx] = 2\n",
    "            elif targets[idx] == 18:\n",
    "                targets[idx] = 3\n",
    "            elif targets[idx] == 19:\n",
    "                targets[idx] = 4\n",
    "            elif targets[idx] == 20:\n",
    "                targets[idx] = 5\n",
    "            elif targets[idx] == 22:\n",
    "                targets[idx] = 6\n",
    "            elif targets[idx] == 26:\n",
    "                targets[idx] = 7\n",
    "            elif targets[idx] == 30:\n",
    "                targets[idx] = 8\n",
    "            elif targets[idx] == 33:\n",
    "                targets[idx] = 9\n",
    "            else:\n",
    "                targets[idx] = 10\n",
    "\n",
    "            if idx in outputs_12_idx:\n",
    "                outputs_12[idx][10] = 100\n",
    "                for i in [0,1,2,3,4,5,6,7,8,9]:\n",
    "                    outputs_12[idx][i] = 0\n",
    "            else:\n",
    "                outputs_12[idx][0] = outputs[idx][5]\n",
    "                outputs_12[idx][1] = outputs[idx][11]\n",
    "                outputs_12[idx][2] = outputs[idx][15]\n",
    "                outputs_12[idx][3] = outputs[idx][18]\n",
    "                outputs_12[idx][4] = outputs[idx][19]\n",
    "                outputs_12[idx][5] = outputs[idx][20]\n",
    "                outputs_12[idx][6] = outputs[idx][22]\n",
    "                outputs_12[idx][7] = outputs[idx][26]\n",
    "                outputs_12[idx][8] = outputs[idx][30]\n",
    "                outputs_12[idx][9] = outputs[idx][33]\n",
    "                outputs_12[idx][10] = -100\n",
    "\n",
    "        outputs_12 = outputs_12.to(device)\n",
    "        targets = targets.to(device)\n",
    "\n",
    "        classerr_test.add(outputs_12, targets)\n",
    "        test_confusion.add(outputs_12, targets)\n",
    "        #print(\"Batch: [\",batch_idx*256 ,\"/\", len(val_dataset),\"]\")\n",
    "        test_acc = classerr_test.value()[0]\n",
    "        #print(\"Accuracy: \", acc)\n",
    "        outputs_all[batch_idx*256:batch_idx*256+len(inputs)] = outputs_12.cpu().numpy()\n",
    "        targets_all[batch_idx*256:batch_idx*256+len(inputs)] = targets.cpu().numpy()\n",
    "    print(\"Total Accuracy: \", test_acc)"
   ]
  },
  {
   "cell_type": "code",
   "execution_count": 10,
   "metadata": {},
   "outputs": [
    {
     "data": {
      "text/plain": [
       "tensor(15, device='cuda:0')"
      ]
     },
     "execution_count": 10,
     "metadata": {},
     "output_type": "execute_result"
    }
   ],
   "source": [
    "max(targets)"
   ]
  },
  {
   "cell_type": "code",
   "execution_count": null,
   "metadata": {},
   "outputs": [],
   "source": []
  }
 ],
 "metadata": {
  "kernelspec": {
   "display_name": "venv",
   "language": "python",
   "name": "python3"
  },
  "language_info": {
   "codemirror_mode": {
    "name": "ipython",
    "version": 3
   },
   "file_extension": ".py",
   "mimetype": "text/x-python",
   "name": "python",
   "nbconvert_exporter": "python",
   "pygments_lexer": "ipython3",
   "version": "3.8.11"
  },
  "orig_nbformat": 4
 },
 "nbformat": 4,
 "nbformat_minor": 2
}
