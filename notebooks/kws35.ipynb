{
 "cells": [
  {
   "cell_type": "markdown",
   "metadata": {},
   "source": [
    "# KWS 35 Class Tests"
   ]
  },
  {
   "cell_type": "code",
   "execution_count": 1,
   "metadata": {},
   "outputs": [],
   "source": [
    "import os\n",
    "import sys\n",
    "\n",
    "import numpy as np\n",
    "import torch\n",
    "\n",
    "import matplotlib.pyplot as plt\n",
    "import seaborn as sns\n",
    "\n",
    "import scipy.io.wavfile as wav\n",
    "\n",
    "import importlib\n",
    "import librosa\n",
    "import soundfile as sf\n",
    "\n",
    "import torchnet.meter as tnt\n",
    "from collections import OrderedDict\n",
    "\n",
    "from IPython.display import clear_output\n",
    "\n",
    "sys.path.append(os.path.join(os.getcwd(), '..'))\n",
    "sys.path.append(os.path.join(os.getcwd(), '../models/'))\n",
    "sys.path.append(os.path.join(os.getcwd(), '../datasets/'))\n",
    "\n",
    "import ai8x\n",
    "\n",
    "from types import SimpleNamespace"
   ]
  },
  {
   "cell_type": "code",
   "execution_count": 2,
   "metadata": {},
   "outputs": [],
   "source": [
    "#trained_checkpoint_path = os.path.join(\"/home/merveeyuboglu/Github/ai8x-training-merve/ai8x-training/logs/train_kws35/2024.05.23-103316/qat_best.pth.tar\")\n",
    "trained_checkpoint_path = os.path.join('..', 'logs', '2024.06.05-221115/qat_best.pth.tar')\n",
    "mod_qat = importlib.import_module(\"ai85net-kws20-nas\")\n",
    "dataset = importlib.import_module(\"kws20\")"
   ]
  },
  {
   "cell_type": "code",
   "execution_count": 3,
   "metadata": {},
   "outputs": [
    {
     "name": "stdout",
     "output_type": "stream",
     "text": [
      "Working with device: cuda\n",
      "Configuring device: MAX78000, simulate=False.\n"
     ]
    }
   ],
   "source": [
    "device = torch.device('cuda' if torch.cuda.is_available() else 'cpu')\n",
    "print(\"Working with device:\", device)\n",
    "\n",
    "ai8x.set_device(device=85, simulate=False, round_avg=False)\n",
    "# qat_policy = {'start_epoch': 10, 'weight_bits': 8, 'bias_bits': 8}"
   ]
  },
  {
   "cell_type": "code",
   "execution_count": 4,
   "metadata": {},
   "outputs": [],
   "source": [
    "model = mod_qat.AI85KWS20NetNAS(num_classes=35, num_channels=128, dimensions=(128, 1), bias=True, \n",
    "                           quantize_activation=False)\n",
    "\n",
    "\n",
    "checkpoint = torch.load(trained_checkpoint_path)\n",
    "\n",
    "state_dict = checkpoint['state_dict']\n",
    "new_state_dict = OrderedDict()\n",
    "for k, v in state_dict.items():\n",
    "    if k.startswith('module.'):\n",
    "        k = k[7:]\n",
    "    new_state_dict[k] = v\n",
    "checkpoint['state_dict'] = new_state_dict\n",
    "\n",
    "ai8x.fuse_bn_layers(model)\n",
    "\n",
    "model.load_state_dict(checkpoint['state_dict'], strict=False)\n",
    "\n",
    "ai8x.update_model(model)"
   ]
  },
  {
   "cell_type": "code",
   "execution_count": 5,
   "metadata": {},
   "outputs": [
    {
     "name": "stdout",
     "output_type": "stream",
     "text": [
      "\n",
      "Processing test...\n",
      "test set: 11413 elements\n",
      "Filtering silence elements...\n",
      "test set: 11005 elements\n",
      "Filtering librispeech elements...\n",
      "test set: 11005 elements\n",
      "Class backward (# 0): 165 elements\n",
      "Class bed (# 1): 207 elements\n",
      "Class bird (# 2): 185 elements\n",
      "Class cat (# 3): 194 elements\n",
      "Class dog (# 4): 220 elements\n",
      "Class down (# 5): 406 elements\n",
      "Class eight (# 6): 408 elements\n",
      "Class five (# 7): 445 elements\n",
      "Class follow (# 8): 172 elements\n",
      "Class forward (# 9): 155 elements\n",
      "Class four (# 10): 400 elements\n",
      "Class go (# 11): 402 elements\n",
      "Class happy (# 12): 203 elements\n",
      "Class house (# 13): 191 elements\n",
      "Class learn (# 14): 161 elements\n",
      "Class left (# 15): 412 elements\n",
      "Class marvin (# 17): 195 elements\n",
      "Class nine (# 18): 408 elements\n",
      "Class no (# 19): 405 elements\n",
      "Class off (# 20): 402 elements\n",
      "Class on (# 21): 396 elements\n",
      "Class one (# 22): 399 elements\n",
      "Class right (# 23): 396 elements\n",
      "Class seven (# 24): 406 elements\n",
      "Class sheila (# 25): 212 elements\n",
      "Class six (# 27): 394 elements\n",
      "Class stop (# 28): 411 elements\n",
      "Class three (# 29): 405 elements\n",
      "Class tree (# 30): 193 elements\n",
      "Class two (# 31): 424 elements\n",
      "Class up (# 32): 425 elements\n",
      "Class visual (# 33): 165 elements\n",
      "Class wow (# 34): 206 elements\n",
      "Class yes (# 35): 419 elements\n",
      "Class zero (# 36): 418 elements\n",
      "Class UNKNOWN: 0 elements\n"
     ]
    }
   ],
   "source": [
    "sn = SimpleNamespace()\n",
    "sn.truncate_testset = False\n",
    "sn.act_mode_8bit = False\n",
    "\n",
    "_, test = dataset.KWS_35_get_datasets( ('/data_ssd', sn), load_train=False, load_test=True)\n",
    "test_loader = torch.utils.data.DataLoader(test, batch_size=256)"
   ]
  },
  {
   "cell_type": "code",
   "execution_count": 6,
   "metadata": {},
   "outputs": [
    {
     "name": "stdout",
     "output_type": "stream",
     "text": [
      "Total Accuracy:  83.93457519309405\n"
     ]
    }
   ],
   "source": [
    "classerr_test = tnt.ClassErrorMeter(accuracy=True, topk=(1, min(35, 5)))\n",
    "test_confusion = tnt.ConfusionMeter(35)\n",
    "outputs_all = np.zeros((len(test), 35))\n",
    "targets_all = np.zeros((len(test)))\n",
    "with torch.no_grad():\n",
    "    for batch_idx, (inputs, targets) in enumerate(test_loader):\n",
    "        outputs = model(inputs)\n",
    "        classerr_test.add(outputs, targets)\n",
    "        test_confusion.add(outputs, targets)\n",
    "        #print(\"Batch: [\",batch_idx*256 ,\"/\", len(val_dataset),\"]\")\n",
    "        test_acc = classerr_test.value()[0]\n",
    "        #print(\"Accuracy: \", acc)\n",
    "        outputs_all[batch_idx*256:batch_idx*256+len(inputs)] = outputs.cpu().numpy()\n",
    "        targets_all[batch_idx*256:batch_idx*256+len(inputs)] = targets.cpu().numpy()\n",
    "    print(\"Total Accuracy: \", test_acc)"
   ]
  },
  {
   "cell_type": "code",
   "execution_count": 7,
   "metadata": {},
   "outputs": [
    {
     "data": {
      "text/plain": [
       "array([[141,   0,   0,   0,   0,   0,   0,   0,   0,   1,   0,   0,   0,   0,   0,   0,   2,   0,   0,   0,   0,   0,   1,   2,   0,   0,   4,   0,   0,   0,   3,  11,   0,   0,   0],\n",
       "       [  3, 136,   5,   4,   1,   6,   5,   0,   0,   0,   0,   4,   1,   0,   0,  14,   1,   1,   2,   0,   0,   0,   8,   4,   0,   1,   1,   1,   0,   3,   3,   1,   0,   1,   1],\n",
       "       [  1,   8, 139,   0,   2,   2,   1,   1,   1,   0,   1,   2,   0,   0,   1,   6,   1,   2,   2,   0,   1,   0,   6,   1,   0,   1,   0,   3,   0,   1,   2,   0,   0,   0,   0],\n",
       "       [  0,   6,   0, 129,   3,   7,   0,   1,   0,   0,   1,   9,   0,   0,   0,  10,   0,   0,   1,   0,   0,   0,   4,   1,   0,   1,   7,   0,   0,   0,   7,   1,   0,   6,   0],\n",
       "       [  0,   2,   1,   0, 140,  21,   0,   0,   0,   0,   0,  12,   0,   0,   0,   2,   0,   0,   6,   1,   1,   1,   2,   0,   0,   1,  28,   0,   0,   0,   2,   0,   0,   0,   0],\n",
       "       [  0,   1,   0,   0,   1, 374,   0,   0,   0,   0,   1,   8,   0,   0,   0,   2,   0,   1,   7,   1,   1,   1,   0,   1,   0,   0,   4,   0,   0,   0,   2,   0,   0,   1,   0],\n",
       "       [  0,   1,   0,   1,   0,   0, 348,   0,   0,   0,   0,   7,   0,   0,   0,   5,   0,   0,   4,   2,   5,   0,  13,   0,   0,   3,   0,   7,   1,   5,   3,   2,   0,   1,   0],\n",
       "       [  0,   0,   2,   0,   0,   0,   0, 326,   1,   1,   2,   0,   0,   1,   0,   3,   4,   2,   0,   3,  40,   1,  42,   2,   0,   0,   5,   6,   0,   0,   3,   0,   1,   0,   0],\n",
       "       [  0,   0,   1,   0,   0,   0,   0,   2, 117,  13,   9,   0,   0,   0,   0,   1,   0,   0,   0,   4,  14,   0,   0,   0,   0,   0,   2,   0,   0,   1,   4,   0,   0,   0,   4],\n",
       "       [  3,   0,   0,   0,   0,   0,   0,   0,  13, 100,  28,   0,   0,   0,   0,   0,   0,   0,   0,   2,   7,   0,   0,   0,   0,   0,   0,   0,   0,   0,   1,   0,   0,   0,   1],\n",
       "       [  0,   0,   2,   0,   0,   1,   1,   2,   1,  15, 283,  24,   0,   0,   0,   1,   0,   0,   0,  31,  23,   1,   2,   0,   2,   0,   4,   3,   0,   3,   0,   0,   1,   0,   0],\n",
       "       [  0,   0,   1,   1,   0,   4,   0,   0,   0,   0,   0, 377,   0,   0,   0,   1,   0,   0,   9,   0,   2,   0,   0,   0,   0,   0,   2,   0,   0,   0,   2,   0,   0,   3,   0],\n",
       "       [  0,   0,   0,   4,   0,   1,   0,   0,   0,   0,   0,   0, 174,   1,   0,   0,   0,   0,   1,   0,   0,   0,   1,   4,   0,   1,   1,   0,   1,   0,  11,   1,   0,   2,   0],\n",
       "       [  0,   0,   0,   0,   1,   2,   0,   1,   0,   0,   0,   1,   1, 161,   0,   0,   0,   0,   3,   5,   7,   0,   1,   0,   0,   0,   0,   0,   0,   0,   8,   0,   0,   0,   0],\n",
       "       [  0,   0,   5,   0,   0,   7,   0,   0,   0,   0,   2,   1,   0,   0,  80,  32,   0,   1,  24,   0,   0,   2,   2,   0,   0,   0,   0,   0,   0,   0,   0,   0,   0,   1,   4],\n",
       "       [  1,   0,   0,   0,   0,   1,   0,   0,   0,   0,   0,   0,   0,   0,   0, 395,   0,   0,   0,   0,   0,   0,   3,   0,   0,   0,   1,   0,   0,   0,   2,   1,   0,   7,   1],\n",
       "       [  1,   0,   1,   0,   0,   0,   0,   1,   0,   1,   0,   1,   1,   0,   1,   1, 174,   4,   3,   0,   2,   0,   1,   2,   0,   0,   0,   0,   0,   0,   0,   0,   0,   1,   0],\n",
       "       [  0,   0,   0,   1,   0,   3,   0,   3,   0,   0,   0,   0,   0,   0,   5,   5,   2, 334,  33,   0,   5,   2,  13,   0,   0,   0,   0,   1,   0,   0,   1,   0,   0,   0,   0],\n",
       "       [  0,   0,   0,   1,   0,   7,   0,   0,   0,   0,   0,   4,   0,   0,   1,   7,   0,   4, 375,   1,   0,   0,   2,   0,   0,   0,   1,   0,   0,   0,   0,   0,   0,   1,   1],\n",
       "       [  0,   0,   0,   1,   0,   1,   0,   0,   0,   0,   0,   2,   0,   2,   0,   0,   0,   0,   0, 353,  12,   0,   0,   0,   0,   0,   0,   0,   0,   0,  30,   0,   0,   1,   0],\n",
       "       [  0,   0,   0,   0,   0,   0,   0,   0,   0,   0,   1,   0,   0,   0,   0,   0,   0,   0,   0,   8, 380,   0,   0,   1,   0,   0,   2,   0,   0,   0,   4,   0,   0,   0,   0],\n",
       "       [  0,   0,   0,   0,   0,   1,   0,   2,   1,   1,   0,   0,   0,   0,   5,   3,   1,   5,   2,   2,  23, 323,  21,   0,   0,   0,   1,   0,   0,   0,   2,   0,   2,   2,   2],\n",
       "       [  0,   0,   1,   0,   0,   2,   0,   0,   0,   0,   1,   0,   0,   0,   0,   7,   0,   0,   0,   0,   2,   0, 378,   0,   0,   0,   0,   3,   0,   0,   2,   0,   0,   0,   0],\n",
       "       [  3,   0,   1,   0,   0,   5,   1,   1,   1,   0,   0,   0,   0,   0,   0,   2,   0,   0,   0,   1,   2,   1,   0, 371,   1,   6,   6,   2,   0,   0,   2,   0,   0,   0,   0],\n",
       "       [  0,   0,   0,   0,   0,   1,   0,   0,   0,   1,   0,   0,   0,   0,   0,   2,   0,   0,   2,   0,   0,   0,   1,   7, 174,   4,   3,   0,   1,   5,   0,   0,   0,   1,  10],\n",
       "       [  1,   0,   2,   3,   0,   0,   5,   0,   0,   0,   0,   1,   0,   0,   0,   4,   0,   0,   1,   0,   1,   0,   1,   0,   3, 359,   4,   4,   2,   2,   0,   0,   0,   1,   0],\n",
       "       [  0,   0,   0,   0,   0,   1,   0,   1,   0,   0,   0,   0,   0,   0,   0,   0,   0,   0,   0,   0,   0,   0,   0,   0,   0,   0, 403,   0,   0,   0,   6,   0,   0,   0,   0],\n",
       "       [  0,   0,   4,   0,   0,   0,  20,   0,   0,   0,   0,   4,   1,   0,   0,   0,   0,   0,   0,   0,   1,   0,   8,   2,   1,   3,   3, 270,  58,  25,   4,   1,   0,   0,   0],\n",
       "       [  0,   0,   0,   0,   0,   1,   1,   0,   0,   0,   1,   1,   0,   0,   0,   0,   0,   0,   1,   1,   1,   0,   2,   0,   0,   0,   0,  29, 143,  10,   1,   0,   0,   1,   0],\n",
       "       [  0,   0,   0,   0,   0,   2,   7,   0,   0,   1,   0,  57,   0,   0,   0,   0,   0,   0,   1,   0,   1,   0,   0,   0,   1,   2,   4,   8,   9, 322,   4,   1,   0,   2,   2],\n",
       "       [  0,   0,   0,   0,   0,   0,   3,   0,   0,   0,   0,   1,   0,   0,   0,   1,   0,   0,   0,  22,   1,   0,   0,   0,   0,   0,   4,   0,   0,   0, 393,   0,   0,   0,   0],\n",
       "       [  1,   0,   0,   0,   0,   0,   1,   0,   0,   0,   0,   0,   0,   0,   0,   3,   0,   0,   0,   0,   0,   1,   1,   0,   0,   1,   1,   0,   0,   0,   0, 147,   0,   2,   7],\n",
       "       [  0,   0,   0,   0,   0,   3,   0,   2,   0,   0,   1,   7,   0,   0,   0,  11,   0,   0,  11,   0,   1,   6,   9,   0,   0,   0,   0,   1,   0,   0,   0,   0, 153,   1,   0],\n",
       "       [  1,   0,   0,   1,   0,   0,   0,   0,   0,   0,   0,   2,   0,   0,   0,   0,   0,   0,   0,   0,   0,   0,   4,   0,   0,   0,   0,   0,   0,   0,   1,   0,   0, 410,   0],\n",
       "       [  0,   1,   0,   0,   0,   2,   1,   0,   0,   0,   1,   5,   0,   0,   0,   1,   0,   0,   8,   0,   0,   0,   0,   1,  18,   1,   0,   0,   0,  10,   1,   5,   0,   8, 355]], dtype=int32)"
      ]
     },
     "execution_count": 7,
     "metadata": {},
     "output_type": "execute_result"
    }
   ],
   "source": [
    "np.set_printoptions(threshold=np.inf, linewidth=500)\n",
    "test_confusion.value()"
   ]
  },
  {
   "cell_type": "code",
   "execution_count": 8,
   "metadata": {},
   "outputs": [],
   "source": [
    "classes = ['down', 'go', 'left', 'no', 'off', 'on', 'right', 'stop', 'up', 'yes']"
   ]
  },
  {
   "cell_type": "code",
   "execution_count": 9,
   "metadata": {},
   "outputs": [],
   "source": [
    "classes_35 = [5, 11, 15, 18, 19, 20, 22, 26, 30, 33]"
   ]
  },
  {
   "cell_type": "code",
   "execution_count": 10,
   "metadata": {},
   "outputs": [
    {
     "name": "stdout",
     "output_type": "stream",
     "text": [
      "Total Accuracy:  89.64107223989096\n"
     ]
    }
   ],
   "source": [
    "classerr_test = tnt.ClassErrorMeter(accuracy=True, topk=(1, min(11, 5)))\n",
    "test_confusion = tnt.ConfusionMeter(11)\n",
    "outputs_all = np.zeros((len(test), 11))\n",
    "targets_all = np.zeros((len(test)))\n",
    "with torch.no_grad():\n",
    "    for batch_idx, (inputs, targets) in enumerate(test_loader):\n",
    "        outputs = model(inputs)\n",
    "        targets_12_idx = [idx for idx, i in enumerate(targets) if i not in classes_35]\n",
    "        \n",
    "        for i in targets_12_idx:\n",
    "            targets[i] = 10\n",
    "\n",
    "        outputs_12_idx = [idx for idx, i in enumerate(np.argmax(outputs, 1)) if i not in classes_35]\n",
    "        outputs_12 = torch.empty((len(inputs), 11))\n",
    "        for idx in range(len(inputs)):\n",
    "        \n",
    "            if targets[idx] == 5:\n",
    "                targets[idx] = 0\n",
    "            elif targets[idx] == 11:\n",
    "                targets[idx] = 1\n",
    "            elif targets[idx] == 15:\n",
    "                targets[idx] = 2\n",
    "            elif targets[idx] == 18:\n",
    "                targets[idx] = 3\n",
    "            elif targets[idx] == 19:\n",
    "                targets[idx] = 4\n",
    "            elif targets[idx] == 20:\n",
    "                targets[idx] = 5\n",
    "            elif targets[idx] == 22:\n",
    "                targets[idx] = 6\n",
    "            elif targets[idx] == 26:\n",
    "                targets[idx] = 7\n",
    "            elif targets[idx] == 30:\n",
    "                targets[idx] = 8\n",
    "            elif targets[idx] == 33:\n",
    "                targets[idx] = 9\n",
    "            else:\n",
    "                targets[idx] = 10\n",
    "\n",
    "            if idx in outputs_12_idx:\n",
    "                outputs_12[idx][10] = 100\n",
    "                for i in [0,1,2,3,4,5,6,7,8,9]:\n",
    "                    outputs_12[idx][i] = 0\n",
    "            else:\n",
    "                outputs_12[idx][0] = outputs[idx][5]\n",
    "                outputs_12[idx][1] = outputs[idx][11]\n",
    "                outputs_12[idx][2] = outputs[idx][15]\n",
    "                outputs_12[idx][3] = outputs[idx][18]\n",
    "                outputs_12[idx][4] = outputs[idx][19]\n",
    "                outputs_12[idx][5] = outputs[idx][20]\n",
    "                outputs_12[idx][6] = outputs[idx][22]\n",
    "                outputs_12[idx][7] = outputs[idx][26]\n",
    "                outputs_12[idx][8] = outputs[idx][30]\n",
    "                outputs_12[idx][9] = outputs[idx][33]\n",
    "                outputs_12[idx][10] = -100\n",
    "\n",
    "        outputs_12 = outputs_12.to(device)\n",
    "        targets = targets.to(device)\n",
    "\n",
    "        classerr_test.add(outputs_12, targets)\n",
    "        test_confusion.add(outputs_12, targets)\n",
    "        #print(\"Batch: [\",batch_idx*256 ,\"/\", len(val_dataset),\"]\")\n",
    "        test_acc = classerr_test.value()[0]\n",
    "        #print(\"Accuracy: \", acc)\n",
    "        outputs_all[batch_idx*256:batch_idx*256+len(inputs)] = outputs_12.cpu().numpy()\n",
    "        targets_all[batch_idx*256:batch_idx*256+len(inputs)] = targets.cpu().numpy()\n",
    "    print(\"Total Accuracy: \", test_acc)"
   ]
  },
  {
   "cell_type": "code",
   "execution_count": 11,
   "metadata": {},
   "outputs": [
    {
     "name": "stdout",
     "output_type": "stream",
     "text": [
      "[[ 374    8    2    7    1    1    0    4    2    1    6]\n",
      " [   4  377    1    9    0    2    0    2    2    3    2]\n",
      " [   1    0  395    0    0    0    3    1    2    7    3]\n",
      " [   7    4    7  375    1    0    2    1    0    1    7]\n",
      " [   1    2    0    0  353   12    0    0   30    1    3]\n",
      " [   0    0    0    0    8  380    0    2    4    0    2]\n",
      " [   2    0    7    0    0    2  378    0    2    0    5]\n",
      " [   1    0    0    0    0    0    0  403    6    0    1]\n",
      " [   0    1    1    0   22    1    0    4  393    0    3]\n",
      " [   0    2    0    0    0    0    4    0    1  410    2]\n",
      " [  65  136  106  105   52  135  139   74   62   30 6027]]\n"
     ]
    }
   ],
   "source": [
    "np.disp(test_confusion.value())"
   ]
  },
  {
   "cell_type": "markdown",
   "metadata": {},
   "source": [
    "## benchmark test"
   ]
  },
  {
   "cell_type": "markdown",
   "metadata": {},
   "source": [
    "You should load the benchmark test data. In order to achieve this with 35 class:"
   ]
  },
  {
   "cell_type": "code",
   "execution_count": 12,
   "metadata": {},
   "outputs": [
    {
     "name": "stdout",
     "output_type": "stream",
     "text": [
      "\n",
      "Processing train...\n",
      "train set: 331395 elements\n",
      "validation set: 32943 elements\n",
      "Filtering silence elements...\n",
      "train set: 316395 elements\n",
      "validation set: 29943 elements\n",
      "Filtering librispeech elements...\n",
      "train set: 254529 elements\n",
      "validation set: 29943 elements\n",
      "Class backward (# 0): 4497 elements\n",
      "Class bed (# 1): 5421 elements\n",
      "Class bird (# 2): 5637 elements\n",
      "Class cat (# 3): 5511 elements\n",
      "Class dog (# 4): 5724 elements\n",
      "Class down (# 5): 10533 elements\n",
      "Class eight (# 6): 10137 elements\n",
      "Class five (# 7): 10821 elements\n",
      "Class follow (# 8): 4221 elements\n",
      "Class forward (# 9): 4206 elements\n",
      "Class four (# 10): 9984 elements\n",
      "Class go (# 11): 10434 elements\n",
      "Class happy (# 12): 5553 elements\n",
      "Class house (# 13): 5766 elements\n",
      "Class learn (# 14): 4242 elements\n",
      "Class left (# 15): 10167 elements\n",
      "Class marvin (# 17): 5715 elements\n",
      "Class nine (# 18): 10578 elements\n",
      "Class no (# 19): 10608 elements\n",
      "Class off (# 20): 10029 elements\n",
      "Class on (# 21): 10347 elements\n",
      "Class one (# 22): 10473 elements\n",
      "Class right (# 23): 10146 elements\n",
      "Class seven (# 24): 10776 elements\n",
      "Class sheila (# 25): 5430 elements\n",
      "Class six (# 27): 10398 elements\n",
      "Class stop (# 28): 10383 elements\n",
      "Class three (# 29): 9966 elements\n",
      "Class tree (# 30): 4698 elements\n",
      "Class two (# 31): 10368 elements\n",
      "Class up (# 32): 9894 elements\n",
      "Class visual (# 33): 4281 elements\n",
      "Class wow (# 34): 5751 elements\n",
      "Class yes (# 35): 10875 elements\n",
      "Class zero (# 36): 10902 elements\n",
      "Class UNKNOWN: 0 elements\n",
      "\n",
      "Processing test...\n",
      "test set: 4891 elements\n",
      "Filtering silence elements...\n",
      "test set: 4483 elements\n",
      "Filtering librispeech elements...\n",
      "test set: 4483 elements\n",
      "Class backward (# 0): 9 elements\n",
      "Class bed (# 1): 11 elements\n",
      "Class bird (# 2): 10 elements\n",
      "Class cat (# 3): 10 elements\n",
      "Class dog (# 4): 7 elements\n",
      "Class down (# 5): 406 elements\n",
      "Class eight (# 6): 34 elements\n",
      "Class five (# 7): 23 elements\n",
      "Class follow (# 8): 9 elements\n",
      "Class forward (# 9): 13 elements\n",
      "Class four (# 10): 18 elements\n",
      "Class go (# 11): 402 elements\n",
      "Class happy (# 12): 21 elements\n",
      "Class house (# 13): 10 elements\n",
      "Class learn (# 14): 10 elements\n",
      "Class left (# 15): 412 elements\n",
      "Class marvin (# 17): 11 elements\n",
      "Class nine (# 18): 24 elements\n",
      "Class no (# 19): 405 elements\n",
      "Class off (# 20): 402 elements\n",
      "Class on (# 21): 396 elements\n",
      "Class one (# 22): 25 elements\n",
      "Class right (# 23): 396 elements\n",
      "Class seven (# 24): 18 elements\n",
      "Class sheila (# 25): 17 elements\n",
      "Class six (# 27): 28 elements\n",
      "Class stop (# 28): 411 elements\n",
      "Class three (# 29): 26 elements\n",
      "Class tree (# 30): 10 elements\n",
      "Class two (# 31): 20 elements\n",
      "Class up (# 32): 425 elements\n",
      "Class visual (# 33): 6 elements\n",
      "Class wow (# 34): 15 elements\n",
      "Class yes (# 35): 419 elements\n",
      "Class zero (# 36): 24 elements\n",
      "Class UNKNOWN: 0 elements\n"
     ]
    }
   ],
   "source": [
    "sn = SimpleNamespace()\n",
    "sn.truncate_testset = False\n",
    "sn.act_mode_8bit = False\n",
    "\n",
    "train, test = dataset.KWS_35_get_datasets( ('/data_ssd', sn), load_train=True, load_test=True, benchmark=True)\n",
    "test_loader = torch.utils.data.DataLoader(test, batch_size=256)"
   ]
  },
  {
   "cell_type": "code",
   "execution_count": 13,
   "metadata": {},
   "outputs": [
    {
     "name": "stdout",
     "output_type": "stream",
     "text": [
      "Total Accuracy:  92.70577738121794\n"
     ]
    }
   ],
   "source": [
    "classerr_test = tnt.ClassErrorMeter(accuracy=True, topk=(1, min(35, 5)))\n",
    "test_confusion = tnt.ConfusionMeter(35)\n",
    "outputs_all = np.zeros((len(test), 35))\n",
    "targets_all = np.zeros((len(test)))\n",
    "with torch.no_grad():\n",
    "    for batch_idx, (inputs, targets) in enumerate(test_loader):\n",
    "        outputs = model(inputs)\n",
    "        classerr_test.add(outputs, targets)\n",
    "        test_confusion.add(outputs, targets)\n",
    "        #print(\"Batch: [\",batch_idx*256 ,\"/\", len(val_dataset),\"]\")\n",
    "        test_acc = classerr_test.value()[0]\n",
    "        #print(\"Accuracy: \", acc)\n",
    "        outputs_all[batch_idx*256:batch_idx*256+len(inputs)] = outputs.cpu().numpy()\n",
    "        targets_all[batch_idx*256:batch_idx*256+len(inputs)] = targets.cpu().numpy()\n",
    "    print(\"Total Accuracy: \", test_acc)"
   ]
  },
  {
   "cell_type": "code",
   "execution_count": 14,
   "metadata": {},
   "outputs": [
    {
     "name": "stdout",
     "output_type": "stream",
     "text": [
      "Total Accuracy:  93.55342404639751\n"
     ]
    }
   ],
   "source": [
    "classerr_test = tnt.ClassErrorMeter(accuracy=True, topk=(1, min(11, 5)))\n",
    "test_confusion = tnt.ConfusionMeter(11)\n",
    "outputs_all = np.zeros((len(test), 11))\n",
    "targets_all = np.zeros((len(test)))\n",
    "with torch.no_grad():\n",
    "    for batch_idx, (inputs, targets) in enumerate(test_loader):\n",
    "        outputs = model(inputs)\n",
    "        targets_12_idx = [idx for idx, i in enumerate(targets) if i not in classes_35]\n",
    "        \n",
    "        for i in targets_12_idx:\n",
    "            targets[i] = 10\n",
    "\n",
    "        outputs_12_idx = [idx for idx, i in enumerate(np.argmax(outputs, 1)) if i not in classes_35]\n",
    "        outputs_12 = torch.empty((len(inputs), 11))\n",
    "        for idx in range(len(inputs)):\n",
    "        \n",
    "            if targets[idx] == 5:\n",
    "                targets[idx] = 0\n",
    "            elif targets[idx] == 11:\n",
    "                targets[idx] = 1\n",
    "            elif targets[idx] == 15:\n",
    "                targets[idx] = 2\n",
    "            elif targets[idx] == 18:\n",
    "                targets[idx] = 3\n",
    "            elif targets[idx] == 19:\n",
    "                targets[idx] = 4\n",
    "            elif targets[idx] == 20:\n",
    "                targets[idx] = 5\n",
    "            elif targets[idx] == 22:\n",
    "                targets[idx] = 6\n",
    "            elif targets[idx] == 26:\n",
    "                targets[idx] = 7\n",
    "            elif targets[idx] == 30:\n",
    "                targets[idx] = 8\n",
    "            elif targets[idx] == 33:\n",
    "                targets[idx] = 9\n",
    "            else:\n",
    "                targets[idx] = 10\n",
    "\n",
    "            if idx in outputs_12_idx:\n",
    "                outputs_12[idx][10] = 100\n",
    "                for i in [0,1,2,3,4,5,6,7,8,9]:\n",
    "                    outputs_12[idx][i] = 0\n",
    "            else:\n",
    "                outputs_12[idx][0] = outputs[idx][5]\n",
    "                outputs_12[idx][1] = outputs[idx][11]\n",
    "                outputs_12[idx][2] = outputs[idx][15]\n",
    "                outputs_12[idx][3] = outputs[idx][18]\n",
    "                outputs_12[idx][4] = outputs[idx][19]\n",
    "                outputs_12[idx][5] = outputs[idx][20]\n",
    "                outputs_12[idx][6] = outputs[idx][22]\n",
    "                outputs_12[idx][7] = outputs[idx][26]\n",
    "                outputs_12[idx][8] = outputs[idx][30]\n",
    "                outputs_12[idx][9] = outputs[idx][33]\n",
    "                outputs_12[idx][10] = -100\n",
    "\n",
    "        outputs_12 = outputs_12.to(device)\n",
    "        targets = targets.to(device)\n",
    "\n",
    "        classerr_test.add(outputs_12, targets)\n",
    "        test_confusion.add(outputs_12, targets)\n",
    "        #print(\"Batch: [\",batch_idx*256 ,\"/\", len(val_dataset),\"]\")\n",
    "        test_acc = classerr_test.value()[0]\n",
    "        #print(\"Accuracy: \", acc)\n",
    "        outputs_all[batch_idx*256:batch_idx*256+len(inputs)] = outputs_12.cpu().numpy()\n",
    "        targets_all[batch_idx*256:batch_idx*256+len(inputs)] = targets.cpu().numpy()\n",
    "    print(\"Total Accuracy: \", test_acc)"
   ]
  },
  {
   "cell_type": "markdown",
   "metadata": {},
   "source": [
    "# Class balancing with weigths"
   ]
  },
  {
   "cell_type": "code",
   "execution_count": 53,
   "metadata": {},
   "outputs": [
    {
     "name": "stdout",
     "output_type": "stream",
     "text": [
      "backward 9\n",
      "bed 11\n",
      "bird 10\n",
      "cat 10\n",
      "dog 7\n",
      "down 406\n",
      "eight 34\n",
      "five 23\n",
      "follow 9\n",
      "forward 13\n",
      "four 18\n",
      "go 402\n",
      "happy 21\n",
      "house 10\n",
      "learn 10\n",
      "left 412\n",
      "marvin 11\n",
      "nine 24\n",
      "no 405\n",
      "off 402\n",
      "on 396\n",
      "one 25\n",
      "right 396\n",
      "seven 18\n",
      "sheila 17\n",
      "six 28\n",
      "stop 411\n",
      "three 26\n",
      "tree 10\n",
      "two 20\n",
      "up 425\n",
      "visual 6\n",
      "wow 15\n",
      "yes 419\n",
      "zero 24\n",
      "UNKNOWN 0\n",
      "409\n",
      "4074\n"
     ]
    }
   ],
   "source": [
    "sum_others = 0\n",
    "sum_keywords = 0\n",
    "for i in test.new_class_dict.keys():\n",
    "    count = test.targets.tolist().count([test.new_class_dict[i]])\n",
    "    print(i, count)\n",
    "    if not i in classes:\n",
    "        sum_others += count\n",
    "    else:\n",
    "        sum_keywords += count\n",
    "\n",
    "print(sum_others)\n",
    "print(sum_keywords)"
   ]
  },
  {
   "cell_type": "code",
   "execution_count": 54,
   "metadata": {},
   "outputs": [
    {
     "name": "stdout",
     "output_type": "stream",
     "text": [
      "backward 4497\n",
      "bed 5421\n",
      "bird 5637\n",
      "cat 5511\n",
      "dog 5724\n",
      "down 10533\n",
      "eight 10137\n",
      "five 10821\n",
      "follow 4221\n",
      "forward 4206\n",
      "four 9984\n",
      "go 10434\n",
      "happy 5553\n",
      "house 5766\n",
      "learn 4242\n",
      "left 10167\n",
      "marvin 5715\n",
      "nine 10578\n",
      "no 10608\n",
      "off 10029\n",
      "on 10347\n",
      "one 10473\n",
      "right 10146\n",
      "seven 10776\n",
      "sheila 5430\n",
      "six 10398\n",
      "stop 10383\n",
      "three 9966\n",
      "tree 4698\n",
      "two 10368\n",
      "up 9894\n",
      "visual 4281\n",
      "wow 5751\n",
      "yes 10875\n",
      "zero 10902\n",
      "UNKNOWN 0\n",
      "181056\n",
      "103416\n"
     ]
    }
   ],
   "source": [
    "sum_others = 0\n",
    "sum_keywords = 0\n",
    "for i in train.new_class_dict.keys():\n",
    "    count = train.targets.tolist().count([train.new_class_dict[i]])\n",
    "    print(i, count)\n",
    "    if not i in classes:\n",
    "        sum_others += count\n",
    "    else:\n",
    "        sum_keywords += count\n",
    "\n",
    "print(sum_others)\n",
    "print(sum_keywords)"
   ]
  },
  {
   "cell_type": "markdown",
   "metadata": {},
   "source": [
    "- 0.04 * 4074 / 10 = 16.36\n",
    "- 1 * 409 / 25 = 16.36\n",
    "\n",
    "- 1 for other classes\n",
    "- 0.04 for benchmark classes\n",
    "\n",
    "test dagilimi\n",
    "\n",
    "her other sinif %0.4 \n",
    "her keyword %9\n",
    "\n",
    "weightler\n",
    "7240 * x => 0.4\n",
    "10340 * y => 9\n",
    "\n",
    "1\n",
    "0.06\n"
   ]
  },
  {
   "cell_type": "code",
   "execution_count": 50,
   "metadata": {},
   "outputs": [
    {
     "data": {
      "text/plain": [
       "10"
      ]
     },
     "execution_count": 50,
     "metadata": {},
     "output_type": "execute_result"
    }
   ],
   "source": [
    "len(classes)"
   ]
  },
  {
   "cell_type": "markdown",
   "metadata": {},
   "source": [
    "## 35 class tests"
   ]
  },
  {
   "cell_type": "code",
   "execution_count": null,
   "metadata": {},
   "outputs": [],
   "source": [
    "trained_checkpoint_path = os.path.join(\"/home/merveeyuboglu/Github/ai8x-training-merve/ai8x-training/logs/train_kws35/2024.05.23-103316/qat_best.pth.tar\")\n",
    "mod_qat = importlib.import_module(\"ai85net-kws20-nas\")\n",
    "dataset = importlib.import_module(\"kws20\")"
   ]
  },
  {
   "cell_type": "code",
   "execution_count": null,
   "metadata": {},
   "outputs": [
    {
     "name": "stdout",
     "output_type": "stream",
     "text": [
      "Working with device: cuda\n",
      "Configuring device: MAX78000, simulate=False.\n"
     ]
    }
   ],
   "source": [
    "device = torch.device('cuda' if torch.cuda.is_available() else 'cpu')\n",
    "print(\"Working with device:\", device)\n",
    "\n",
    "ai8x.set_device(device=85, simulate=False, round_avg=False)\n",
    "# qat_policy = {'start_epoch': 10, 'weight_bits': 8, 'bias_bits': 8}"
   ]
  },
  {
   "cell_type": "code",
   "execution_count": null,
   "metadata": {},
   "outputs": [],
   "source": [
    "model = mod_qat.AI85KWS20NetNAS(num_classes=35, num_channels=128, dimensions=(128, 1), bias=True, \n",
    "                           quantize_activation=False)\n",
    "\n",
    "\n",
    "checkpoint = torch.load(trained_checkpoint_path)\n",
    "\n",
    "state_dict = checkpoint['state_dict']\n",
    "new_state_dict = OrderedDict()\n",
    "for k, v in state_dict.items():\n",
    "    if k.startswith('module.'):\n",
    "        k = k[7:]\n",
    "    new_state_dict[k] = v\n",
    "checkpoint['state_dict'] = new_state_dict\n",
    "\n",
    "ai8x.fuse_bn_layers(model)\n",
    "\n",
    "model.load_state_dict(checkpoint['state_dict'], strict=False)\n",
    "\n",
    "ai8x.update_model(model)"
   ]
  },
  {
   "cell_type": "code",
   "execution_count": null,
   "metadata": {},
   "outputs": [
    {
     "name": "stdout",
     "output_type": "stream",
     "text": [
      "\n",
      "Processing test...\n",
      "test set: 11413 elements\n",
      "Filtering silence elements...\n",
      "test set: 11005 elements\n",
      "Class backward (# 0): 165 elements\n",
      "Class bed (# 1): 207 elements\n",
      "Class bird (# 2): 185 elements\n",
      "Class cat (# 3): 194 elements\n",
      "Class dog (# 4): 220 elements\n",
      "Class down (# 5): 406 elements\n",
      "Class eight (# 6): 408 elements\n",
      "Class five (# 7): 445 elements\n",
      "Class follow (# 8): 172 elements\n",
      "Class forward (# 9): 155 elements\n",
      "Class four (# 10): 400 elements\n",
      "Class go (# 11): 402 elements\n",
      "Class happy (# 12): 203 elements\n",
      "Class house (# 13): 191 elements\n",
      "Class learn (# 14): 161 elements\n",
      "Class left (# 15): 412 elements\n",
      "Class marvin (# 17): 195 elements\n",
      "Class nine (# 18): 408 elements\n",
      "Class no (# 19): 405 elements\n",
      "Class off (# 20): 402 elements\n",
      "Class on (# 21): 396 elements\n",
      "Class one (# 22): 399 elements\n",
      "Class right (# 23): 396 elements\n",
      "Class seven (# 24): 406 elements\n",
      "Class sheila (# 25): 212 elements\n",
      "Class six (# 27): 394 elements\n",
      "Class stop (# 28): 411 elements\n",
      "Class three (# 29): 405 elements\n",
      "Class tree (# 30): 193 elements\n",
      "Class two (# 31): 424 elements\n",
      "Class up (# 32): 425 elements\n",
      "Class visual (# 33): 165 elements\n",
      "Class wow (# 34): 206 elements\n",
      "Class yes (# 35): 419 elements\n",
      "Class zero (# 36): 418 elements\n",
      "Class UNKNOWN: 0 elements\n"
     ]
    }
   ],
   "source": [
    "sn = SimpleNamespace()\n",
    "sn.truncate_testset = False\n",
    "sn.act_mode_8bit = False\n",
    "\n",
    "_, test = dataset.KWS_35_get_datasets( ('/data_ssd', sn), load_train=False, load_test=True)\n",
    "test_loader = torch.utils.data.DataLoader(test, batch_size=256)"
   ]
  },
  {
   "cell_type": "code",
   "execution_count": null,
   "metadata": {},
   "outputs": [
    {
     "name": "stdout",
     "output_type": "stream",
     "text": [
      "Total Accuracy:  92.88505224897774\n"
     ]
    }
   ],
   "source": [
    "classerr_test = tnt.ClassErrorMeter(accuracy=True, topk=(1, min(35, 5)))\n",
    "test_confusion = tnt.ConfusionMeter(35)\n",
    "outputs_all = np.zeros((len(test), 35))\n",
    "targets_all = np.zeros((len(test)))\n",
    "with torch.no_grad():\n",
    "    for batch_idx, (inputs, targets) in enumerate(test_loader):\n",
    "        outputs = model(inputs)\n",
    "        classerr_test.add(outputs, targets)\n",
    "        test_confusion.add(outputs, targets)\n",
    "        #print(\"Batch: [\",batch_idx*256 ,\"/\", len(val_dataset),\"]\")\n",
    "        test_acc = classerr_test.value()[0]\n",
    "        #print(\"Accuracy: \", acc)\n",
    "        outputs_all[batch_idx*256:batch_idx*256+len(inputs)] = outputs.cpu().numpy()\n",
    "        targets_all[batch_idx*256:batch_idx*256+len(inputs)] = targets.cpu().numpy()\n",
    "    print(\"Total Accuracy: \", test_acc)"
   ]
  },
  {
   "cell_type": "code",
   "execution_count": null,
   "metadata": {},
   "outputs": [
    {
     "data": {
      "text/plain": [
       "array([[160,   1,   0, ...,   0,   0,   1],\n",
       "       [  0, 181,   5, ...,   0,   0,   0],\n",
       "       [  1,   5, 171, ...,   0,   0,   2],\n",
       "       ...,\n",
       "       [  0,   0,   0, ..., 189,   0,   0],\n",
       "       [  0,   0,   0, ...,   0, 407,   1],\n",
       "       [  0,   0,   0, ...,   0,   0, 398]], dtype=int32)"
      ]
     },
     "metadata": {},
     "output_type": "display_data"
    }
   ],
   "source": [
    "test_confusion.value()"
   ]
  },
  {
   "cell_type": "code",
   "execution_count": null,
   "metadata": {},
   "outputs": [],
   "source": [
    "classes = ['down', 'go', 'left', 'no', 'off', 'on', 'right', 'stop', 'up', 'yes']"
   ]
  },
  {
   "cell_type": "code",
   "execution_count": null,
   "metadata": {},
   "outputs": [],
   "source": [
    "classes_35 = [5, 11, 15, 18, 19, 20, 22, 26, 30, 33]"
   ]
  },
  {
   "cell_type": "code",
   "execution_count": null,
   "metadata": {},
   "outputs": [
    {
     "name": "stdout",
     "output_type": "stream",
     "text": [
      "Total Accuracy:  95.93820990458882\n"
     ]
    }
   ],
   "source": [
    "classerr_test = tnt.ClassErrorMeter(accuracy=True, topk=(1, min(11, 5)))\n",
    "test_confusion = tnt.ConfusionMeter(11)\n",
    "outputs_all = np.zeros((len(test), 11))\n",
    "targets_all = np.zeros((len(test)))\n",
    "with torch.no_grad():\n",
    "    for batch_idx, (inputs, targets) in enumerate(test_loader):\n",
    "        outputs = model(inputs)\n",
    "        targets_12_idx = [idx for idx, i in enumerate(targets) if i not in classes_35]\n",
    "        \n",
    "        for i in targets_12_idx:\n",
    "            targets[i] = 10\n",
    "\n",
    "        outputs_12_idx = [idx for idx, i in enumerate(np.argmax(outputs, 1)) if i not in classes_35]\n",
    "        outputs_12 = torch.empty((len(inputs), 11))\n",
    "        for idx in range(len(inputs)):\n",
    "        \n",
    "            if targets[idx] == 5:\n",
    "                targets[idx] = 0\n",
    "            elif targets[idx] == 11:\n",
    "                targets[idx] = 1\n",
    "            elif targets[idx] == 15:\n",
    "                targets[idx] = 2\n",
    "            elif targets[idx] == 18:\n",
    "                targets[idx] = 3\n",
    "            elif targets[idx] == 19:\n",
    "                targets[idx] = 4\n",
    "            elif targets[idx] == 20:\n",
    "                targets[idx] = 5\n",
    "            elif targets[idx] == 22:\n",
    "                targets[idx] = 6\n",
    "            elif targets[idx] == 26:\n",
    "                targets[idx] = 7\n",
    "            elif targets[idx] == 30:\n",
    "                targets[idx] = 8\n",
    "            elif targets[idx] == 33:\n",
    "                targets[idx] = 9\n",
    "            else:\n",
    "                targets[idx] = 10\n",
    "\n",
    "            if idx in outputs_12_idx:\n",
    "                outputs_12[idx][10] = 100\n",
    "                for i in [0,1,2,3,4,5,6,7,8,9]:\n",
    "                    outputs_12[idx][i] = 0\n",
    "            else:\n",
    "                outputs_12[idx][0] = outputs[idx][5]\n",
    "                outputs_12[idx][1] = outputs[idx][11]\n",
    "                outputs_12[idx][2] = outputs[idx][15]\n",
    "                outputs_12[idx][3] = outputs[idx][18]\n",
    "                outputs_12[idx][4] = outputs[idx][19]\n",
    "                outputs_12[idx][5] = outputs[idx][20]\n",
    "                outputs_12[idx][6] = outputs[idx][22]\n",
    "                outputs_12[idx][7] = outputs[idx][26]\n",
    "                outputs_12[idx][8] = outputs[idx][30]\n",
    "                outputs_12[idx][9] = outputs[idx][33]\n",
    "                outputs_12[idx][10] = -100\n",
    "\n",
    "        outputs_12 = outputs_12.to(device)\n",
    "        targets = targets.to(device)\n",
    "\n",
    "        classerr_test.add(outputs_12, targets)\n",
    "        test_confusion.add(outputs_12, targets)\n",
    "        #print(\"Batch: [\",batch_idx*256 ,\"/\", len(val_dataset),\"]\")\n",
    "        test_acc = classerr_test.value()[0]\n",
    "        #print(\"Accuracy: \", acc)\n",
    "        outputs_all[batch_idx*256:batch_idx*256+len(inputs)] = outputs_12.cpu().numpy()\n",
    "        targets_all[batch_idx*256:batch_idx*256+len(inputs)] = targets.cpu().numpy()\n",
    "    print(\"Total Accuracy: \", test_acc)"
   ]
  },
  {
   "cell_type": "code",
   "execution_count": null,
   "metadata": {},
   "outputs": [
    {
     "name": "stdout",
     "output_type": "stream",
     "text": [
      "[[ 360   12    0    8    0    0    0    3    1    0   22]\n",
      " [   2  375    1    8    0    0    1    0    1    1   13]\n",
      " [   0    1  399    1    0    0    0    0    1    2    8]\n",
      " [   1    1    6  383    0    0    0    0    0    1   13]\n",
      " [   0    1    0    1  352    4    0    0   34    0   10]\n",
      " [   0    0    0    0   11  372    1    0    1    0   11]\n",
      " [   1    0    3    0    2    0  365    0    1    0   24]\n",
      " [   0    1    0    2    0    0    0  391    6    0   11]\n",
      " [   0    1    1    0   24    0    0    4  384    0   11]\n",
      " [   0    2    2    0    0    0    3    0    0  407    5]\n",
      " [  17   20   19   26   15   23   12   14   13    2 6770]]\n"
     ]
    }
   ],
   "source": [
    "np.disp(test_confusion.value())"
   ]
  },
  {
   "cell_type": "markdown",
   "metadata": {},
   "source": [
    "## benchmark test"
   ]
  },
  {
   "cell_type": "markdown",
   "metadata": {},
   "source": [
    "You should load the benchmark test data. In order to achieve this with 35 class:"
   ]
  },
  {
   "cell_type": "code",
   "execution_count": null,
   "metadata": {},
   "outputs": [
    {
     "name": "stdout",
     "output_type": "stream",
     "text": [
      "\n",
      "Processing test...\n",
      "test set: 4891 elements\n",
      "Filtering silence elements...\n",
      "test set: 4483 elements\n",
      "Filtering librispeech elements...\n",
      "test set: 4483 elements\n",
      "Class backward (# 0): 9 elements\n",
      "Class bed (# 1): 11 elements\n",
      "Class bird (# 2): 10 elements\n",
      "Class cat (# 3): 10 elements\n",
      "Class dog (# 4): 7 elements\n",
      "Class down (# 5): 406 elements\n",
      "Class eight (# 6): 34 elements\n",
      "Class five (# 7): 23 elements\n",
      "Class follow (# 8): 9 elements\n",
      "Class forward (# 9): 13 elements\n",
      "Class four (# 10): 18 elements\n",
      "Class go (# 11): 402 elements\n",
      "Class happy (# 12): 21 elements\n",
      "Class house (# 13): 10 elements\n",
      "Class learn (# 14): 10 elements\n",
      "Class left (# 15): 412 elements\n",
      "Class marvin (# 17): 11 elements\n",
      "Class nine (# 18): 24 elements\n",
      "Class no (# 19): 405 elements\n",
      "Class off (# 20): 402 elements\n",
      "Class on (# 21): 396 elements\n",
      "Class one (# 22): 25 elements\n",
      "Class right (# 23): 396 elements\n",
      "Class seven (# 24): 18 elements\n",
      "Class sheila (# 25): 17 elements\n",
      "Class six (# 27): 28 elements\n",
      "Class stop (# 28): 411 elements\n",
      "Class three (# 29): 26 elements\n",
      "Class tree (# 30): 10 elements\n",
      "Class two (# 31): 20 elements\n",
      "Class up (# 32): 425 elements\n",
      "Class visual (# 33): 6 elements\n",
      "Class wow (# 34): 15 elements\n",
      "Class yes (# 35): 419 elements\n",
      "Class zero (# 36): 24 elements\n",
      "Class UNKNOWN: 0 elements\n"
     ]
    }
   ],
   "source": [
    "sn = SimpleNamespace()\n",
    "sn.truncate_testset = False\n",
    "sn.act_mode_8bit = False\n",
    "\n",
    "_, test = dataset.KWS_35_get_datasets( ('/data_ssd', sn), load_train=False, load_test=True, benchmark=True)\n",
    "test_loader = torch.utils.data.DataLoader(test, batch_size=256)"
   ]
  },
  {
   "cell_type": "code",
   "execution_count": null,
   "metadata": {},
   "outputs": [
    {
     "name": "stdout",
     "output_type": "stream",
     "text": [
      "Total Accuracy:  92.90653580191835\n"
     ]
    }
   ],
   "source": [
    "classerr_test = tnt.ClassErrorMeter(accuracy=True, topk=(1, min(35, 5)))\n",
    "test_confusion = tnt.ConfusionMeter(35)\n",
    "outputs_all = np.zeros((len(test), 35))\n",
    "targets_all = np.zeros((len(test)))\n",
    "with torch.no_grad():\n",
    "    for batch_idx, (inputs, targets) in enumerate(test_loader):\n",
    "        outputs = model(inputs)\n",
    "        classerr_test.add(outputs, targets)\n",
    "        test_confusion.add(outputs, targets)\n",
    "        #print(\"Batch: [\",batch_idx*256 ,\"/\", len(val_dataset),\"]\")\n",
    "        test_acc = classerr_test.value()[0]\n",
    "        #print(\"Accuracy: \", acc)\n",
    "        outputs_all[batch_idx*256:batch_idx*256+len(inputs)] = outputs.cpu().numpy()\n",
    "        targets_all[batch_idx*256:batch_idx*256+len(inputs)] = targets.cpu().numpy()\n",
    "    print(\"Total Accuracy: \", test_acc)"
   ]
  },
  {
   "cell_type": "code",
   "execution_count": null,
   "metadata": {},
   "outputs": [
    {
     "name": "stdout",
     "output_type": "stream",
     "text": [
      "Total Accuracy:  93.44189159045283\n"
     ]
    }
   ],
   "source": [
    "classerr_test = tnt.ClassErrorMeter(accuracy=True, topk=(1, min(11, 5)))\n",
    "test_confusion = tnt.ConfusionMeter(11)\n",
    "outputs_all = np.zeros((len(test), 11))\n",
    "targets_all = np.zeros((len(test)))\n",
    "with torch.no_grad():\n",
    "    for batch_idx, (inputs, targets) in enumerate(test_loader):\n",
    "        outputs = model(inputs)\n",
    "        targets_12_idx = [idx for idx, i in enumerate(targets) if i not in classes_35]\n",
    "        \n",
    "        for i in targets_12_idx:\n",
    "            targets[i] = 10\n",
    "\n",
    "        outputs_12_idx = [idx for idx, i in enumerate(np.argmax(outputs, 1)) if i not in classes_35]\n",
    "        outputs_12 = torch.empty((len(inputs), 11))\n",
    "        for idx in range(len(inputs)):\n",
    "        \n",
    "            if targets[idx] == 5:\n",
    "                targets[idx] = 0\n",
    "            elif targets[idx] == 11:\n",
    "                targets[idx] = 1\n",
    "            elif targets[idx] == 15:\n",
    "                targets[idx] = 2\n",
    "            elif targets[idx] == 18:\n",
    "                targets[idx] = 3\n",
    "            elif targets[idx] == 19:\n",
    "                targets[idx] = 4\n",
    "            elif targets[idx] == 20:\n",
    "                targets[idx] = 5\n",
    "            elif targets[idx] == 22:\n",
    "                targets[idx] = 6\n",
    "            elif targets[idx] == 26:\n",
    "                targets[idx] = 7\n",
    "            elif targets[idx] == 30:\n",
    "                targets[idx] = 8\n",
    "            elif targets[idx] == 33:\n",
    "                targets[idx] = 9\n",
    "            else:\n",
    "                targets[idx] = 10\n",
    "\n",
    "            if idx in outputs_12_idx:\n",
    "                outputs_12[idx][10] = 100\n",
    "                for i in [0,1,2,3,4,5,6,7,8,9]:\n",
    "                    outputs_12[idx][i] = 0\n",
    "            else:\n",
    "                outputs_12[idx][0] = outputs[idx][5]\n",
    "                outputs_12[idx][1] = outputs[idx][11]\n",
    "                outputs_12[idx][2] = outputs[idx][15]\n",
    "                outputs_12[idx][3] = outputs[idx][18]\n",
    "                outputs_12[idx][4] = outputs[idx][19]\n",
    "                outputs_12[idx][5] = outputs[idx][20]\n",
    "                outputs_12[idx][6] = outputs[idx][22]\n",
    "                outputs_12[idx][7] = outputs[idx][26]\n",
    "                outputs_12[idx][8] = outputs[idx][30]\n",
    "                outputs_12[idx][9] = outputs[idx][33]\n",
    "                outputs_12[idx][10] = -100\n",
    "\n",
    "        outputs_12 = outputs_12.to(device)\n",
    "        targets = targets.to(device)\n",
    "\n",
    "        classerr_test.add(outputs_12, targets)\n",
    "        test_confusion.add(outputs_12, targets)\n",
    "        #print(\"Batch: [\",batch_idx*256 ,\"/\", len(val_dataset),\"]\")\n",
    "        test_acc = classerr_test.value()[0]\n",
    "        #print(\"Accuracy: \", acc)\n",
    "        outputs_all[batch_idx*256:batch_idx*256+len(inputs)] = outputs_12.cpu().numpy()\n",
    "        targets_all[batch_idx*256:batch_idx*256+len(inputs)] = targets.cpu().numpy()\n",
    "    print(\"Total Accuracy: \", test_acc)"
   ]
  },
  {
   "cell_type": "code",
   "execution_count": null,
   "metadata": {},
   "outputs": [],
   "source": []
  }
 ],
 "metadata": {
  "kernelspec": {
   "display_name": "venv",
   "language": "python",
   "name": "python3"
  },
  "language_info": {
   "codemirror_mode": {
    "name": "ipython",
    "version": 3
   },
   "file_extension": ".py",
   "mimetype": "text/x-python",
   "name": "python",
   "nbconvert_exporter": "python",
   "pygments_lexer": "ipython3",
   "version": "3.8.11"
  },
  "orig_nbformat": 4
 },
 "nbformat": 4,
 "nbformat_minor": 2
}
